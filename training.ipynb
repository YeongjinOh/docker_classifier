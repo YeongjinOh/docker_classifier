{
 "cells": [
  {
   "cell_type": "code",
   "execution_count": 1,
   "metadata": {
    "collapsed": true
   },
   "outputs": [],
   "source": [
    "import pandas as pd # python에서 데이터를 조작할 때 쓰는 툴\n",
    "from sklearn.feature_extraction.text import CountVectorizer\n",
    "from sklearn.externals import joblib\n",
    "\n",
    "train_df = pd.read_pickle(\"soma_goods_train.df\")\n",
    "vectorizer = CountVectorizer()"
   ]
  },
  {
   "cell_type": "code",
   "execution_count": 2,
   "metadata": {
    "collapsed": true
   },
   "outputs": [],
   "source": [
    "# set d_list, cate_list\n",
    "\n",
    "d_list = []\n",
    "cate_list = []\n",
    "for each in train_df.iterrows():\n",
    "    cate = \";\".join([each[1]['cate1'],each[1]['cate2'],each[1]['cate3']])\n",
    "    d_list.append(each[1]['name'])\n",
    "    cate_list.append(cate)"
   ]
  },
  {
   "cell_type": "code",
   "execution_count": 3,
   "metadata": {
    "collapsed": true
   },
   "outputs": [],
   "source": [
    "# make cate_dict\n",
    "\n",
    "cate_dict = dict(zip(list(set(cate_list)),range(len(set(cate_list))))) # 카테고리 별로 id를 만들어주는 코드.\n",
    "# print cate_dict[u'디지털/가전;네트워크장비;KVM스위치']\n",
    "# print cate_dict[u'패션의류;남성의류;정장']s"
   ]
  },
  {
   "cell_type": "code",
   "execution_count": 4,
   "metadata": {
    "collapsed": true
   },
   "outputs": [],
   "source": [
    "# make y_list\n",
    "\n",
    "y_list = []\n",
    "for each in train_df.iterrows(): # iterrows 데이터를 도는 애\n",
    "    cate = \";\".join([each[1]['cate1'],each[1]['cate2'],each[1]['cate3']])\n",
    "    y_list.append(cate_dict[cate])"
   ]
  },
  {
   "cell_type": "code",
   "execution_count": 10,
   "metadata": {
    "collapsed": true
   },
   "outputs": [],
   "source": [
    "# define removeStopWords\n",
    "\n",
    "mapping = { 'A/S':'AS', u'현대백화점':u'백화점', u'롯데백화점':u'백화점', u'대구백화점':u'백화점', 'IntelIntel':'Intel', 'IBMIBM':'IBM'}\n",
    "stop_words = [u\"%즉시할인쿠폰\",  u\"5% 즉시할인\", u\"0% 즉시할인\", u\"% 즉시할인\", u\"5% 할인\", u\"0% 할인\", u\"5%할인\", u\"0%할인\", u\"% 할인\", u\"적립\",\n",
    "              u\"쿠폰\", u\"즉시\",u\"정품\", u\"증정\", u\"할인\", u\"하나 더\", u\"하나더\", u\"사은품\", u\"중고\",\n",
    "              u\"해외직배송\", u\"직배송\", u\"무료배송\", u\"안전배송\", u\"당일\", u\"배송\", u\"발송\", u\"빠른\", u\"저렴한\", u\"새로운\",\n",
    "              u\"신한카드\", u\"BC카드\", u\"KB국민카드\", u\"국민카드\", u\"롯데카드\", u\"KB카드\", u\"현대카드\", u\"삼성카드\", \n",
    "              u\"비씨카드\", u\"우리카드\", u\"제휴카드\", u\"하나카드\", u\"씨티카드\",\n",
    "              u\"일까지\"]\n",
    "symbols = [\"[\",\"]\",\"(\",\")\", \"+\", \"-\", \"/\", \"?\", \"~\", \"*\", u\"☆\", u\"★\", u\"●\", u\"♥\", u\"■\", u\"▶\", u\"◀\", u\"↑\"]\n",
    "ambg_words = [u\"해외\", u\"구매대행\"]\n",
    "\n",
    "start = 0\n",
    "length = 1\n",
    "remove_ambg = True\n",
    "\n",
    "# define concatenate function\n",
    "def concate(list1, list2) :\n",
    "    for each in list2:\n",
    "        list1.append(each)\n",
    "    return list1\n",
    "\n",
    "remove_list = concate(stop_words, symbols)\n",
    "if remove_ambg:\n",
    "    remove_list = concate(remove_list,ambg_words)\n",
    "    \n",
    "def removeStopWords(word) :\n",
    "     # replace\n",
    "    for before, after in mapping.iteritems():\n",
    "        word = word.replace(before, after)\n",
    "    #remove\n",
    "    for each in remove_list :\n",
    "        word = word.replace(each,\" \")\n",
    "    return word"
   ]
  },
  {
   "cell_type": "code",
   "execution_count": 11,
   "metadata": {
    "collapsed": false
   },
   "outputs": [],
   "source": [
    "# define splitMorph using konlpy\n",
    "\n",
    "from konlpy.tag import Twitter\n",
    "from konlpy.utils import pprint\n",
    "kkma = Twitter()\n",
    "\n",
    "def splitMorph(word) :\n",
    "    morphs = kkma.pos(word)\n",
    "    words = \"\"\n",
    "    for morph in morphs :\n",
    "        word = morph[0]\n",
    "        words += \" \" + word\n",
    "    return words"
   ]
  },
  {
   "cell_type": "code",
   "execution_count": 12,
   "metadata": {
    "collapsed": false
   },
   "outputs": [
    {
     "data": {
      "text/plain": [
       "'\\nnum = 1375\\nword = d_list[num]\\nword = removeStopWords(word)\\nprint word\\nl = kkma.nouns(word)\\nfor each in l :\\n    print each\\n    #[0] + \" - \" + each[1]\\n'"
      ]
     },
     "execution_count": 12,
     "metadata": {},
     "output_type": "execute_result"
    }
   ],
   "source": [
    "'''\n",
    "num = 1375\n",
    "word = d_list[num]\n",
    "word = removeStopWords(word)\n",
    "print word\n",
    "l = kkma.nouns(word)\n",
    "for each in l :\n",
    "    print each\n",
    "    #[0] + \" - \" + each[1]\n",
    "'''"
   ]
  },
  {
   "cell_type": "code",
   "execution_count": 13,
   "metadata": {
    "collapsed": false
   },
   "outputs": [],
   "source": [
    "# remove all stop words\n",
    "# And split all morphs\n",
    "\n",
    "length = len(d_list)\n",
    "for i in range(0, length):\n",
    "    d_list[i] = removeStopWords(d_list[i])\n",
    "    d_list[i] = splitMorph(d_list[i])"
   ]
  },
  {
   "cell_type": "code",
   "execution_count": 14,
   "metadata": {
    "collapsed": false
   },
   "outputs": [
    {
     "name": "stdout",
     "output_type": "stream",
     "text": [
      "10000\n"
     ]
    }
   ],
   "source": [
    "# JSON result 미리 읽어오기\n",
    "\n",
    "list_caffe = []\n",
    "list_caffe = joblib.load('list_caffe.dat')\n",
    "length = len(list_caffe)\n",
    "print length"
   ]
  },
  {
   "cell_type": "code",
   "execution_count": 15,
   "metadata": {
    "collapsed": false
   },
   "outputs": [
    {
     "name": "stdout",
     "output_type": "stream",
     "text": [
      " LG 유플러스 번호 이동 갤럭시 A 5 SM A 500 L LTE 음성 무한 자유 124 할부 원금 173500 원 가입 비 분납 유심 비후 청구 위약금 남은 할부 원금 , 받은 지원 금 , 약정 금 부가 서비스 computer machine personalcomputer electronicequipment digitalcomputer\n"
     ]
    }
   ],
   "source": [
    "########### append string\n",
    "\n",
    "size = 10000\n",
    "use_caffe = True\n",
    "if use_caffe :\n",
    "    for num in range(0, size):\n",
    "        res = list_caffe[num]['result']\n",
    "        \n",
    "        if res[0] :\n",
    "            #for each in res[1] :\n",
    "            #    d_list[num] += \" \" + each[0].replace(\" \", \"\")\n",
    "            for each in res[2] :\n",
    "                d_list[num] += \" \" + each[0].replace(\" \", \"\")\n",
    "\n",
    "print d_list[1000]\n",
    "# print train_df[test_num-1:test_num]"
   ]
  },
  {
   "cell_type": "code",
   "execution_count": 16,
   "metadata": {
    "collapsed": false,
    "scrolled": true
   },
   "outputs": [
    {
     "name": "stdout",
     "output_type": "stream",
     "text": [
      "1000\n",
      "9000\n"
     ]
    }
   ],
   "source": [
    "######### training set과 test set 나누기\n",
    "d_list_test = []\n",
    "d_list_train = []\n",
    "y_list_test = []\n",
    "y_list_train = []\n",
    "size = len(d_list)\n",
    "for i in range(0,size) :\n",
    "    if i % 10 == 0:\n",
    "        d_list_test.append(d_list[i])\n",
    "        y_list_test.append(y_list[i])\n",
    "    else :\n",
    "        d_list_train.append(d_list[i])\n",
    "        y_list_train.append(y_list[i])\n",
    "print len(d_list_test)\n",
    "print len(y_list_train)"
   ]
  },
  {
   "cell_type": "code",
   "execution_count": 17,
   "metadata": {
    "collapsed": true
   },
   "outputs": [],
   "source": [
    "##############################################\n",
    "\n",
    "save = True\n",
    "if save :\n",
    "    joblib.dump(d_list_test, \"d_list_test.dat\")\n",
    "    joblib.dump(d_list_train, \"d_list_train.dat\")\n",
    "    joblib.dump(y_list_test, \"y_list_test.dat\")\n",
    "    joblib.dump(y_list_train, \"y_list_train.dat\")\n",
    "    joblib.dump(d_list, \"d_list.dat\")\n",
    "    joblib.dump(y_list, \"y_list.dat\")\n"
   ]
  },
  {
   "cell_type": "code",
   "execution_count": 1,
   "metadata": {
    "collapsed": false
   },
   "outputs": [],
   "source": [
    "#############################################\n",
    "# load\n",
    "from sklearn.feature_extraction.text import CountVectorizer\n",
    "from sklearn.externals import joblib\n",
    "d_list_test = joblib.load('d_list_test.dat')\n",
    "d_list_train = joblib.load('d_list_train.dat')\n",
    "y_list_test = joblib.load('y_list_test.dat')\n",
    "y_list_train = joblib.load('y_list_train.dat')\n",
    "d_list = joblib.load('d_list.dat')\n",
    "y_list = joblib.load('y_list.dat')\n",
    "vectorizer = CountVectorizer()"
   ]
  },
  {
   "cell_type": "code",
   "execution_count": 2,
   "metadata": {
    "collapsed": false
   },
   "outputs": [
    {
     "name": "stdout",
     "output_type": "stream",
     "text": [
      "9000\n",
      "9000\n"
     ]
    }
   ],
   "source": [
    "#### use all 10000 datas\n",
    "use_all = False\n",
    "\n",
    "if use_all :\n",
    "    d_list_train = d_list\n",
    "    y_list_train = y_list\n",
    "print len(d_list_train)\n",
    "print len(y_list_train)"
   ]
  },
  {
   "cell_type": "code",
   "execution_count": 3,
   "metadata": {
    "collapsed": false
   },
   "outputs": [
    {
     "name": "stdout",
     "output_type": "stream",
     "text": [
      "(9000, 15975)\n"
     ]
    }
   ],
   "source": [
    "# create x_list\n",
    "x_list = vectorizer.fit_transform(d_list_train)\n",
    "print x_list.shape"
   ]
  },
  {
   "cell_type": "code",
   "execution_count": 4,
   "metadata": {
    "collapsed": true
   },
   "outputs": [],
   "source": [
    "from sklearn.svm import LinearSVC\n",
    "from sklearn.grid_search import GridSearchCV\n",
    "import numpy as np\n",
    "#svc_param = {'C':np.logspace(-2,0,20)} # 엔진이 학습을 할 때 파라미터에 따라서 최적화를 해준다. 속도를 빠르게 하고싶으면 (-2,0,5)로 바꿈.\n",
    "svc_param = {'C':np.logspace(-2,0,5)} # 엔진이 학습을 할 때 파라미터에 따라서 최적화를 해준다. 속도를 빠르게 하고싶으면 (-2,0,5)로 바꿈.\n",
    "gs_svc = GridSearchCV(LinearSVC(loss='l2'),svc_param,cv=5,n_jobs=4) # n_jobs 몇개 코어로 돌릴거냐"
   ]
  },
  {
   "cell_type": "code",
   "execution_count": null,
   "metadata": {
    "collapsed": false
   },
   "outputs": [
    {
     "name": "stderr",
     "output_type": "stream",
     "text": [
      "/opt/conda/envs/python2/lib/python2.7/site-packages/sklearn/cross_validation.py:516: Warning: The least populated class in y has only 3 members, which is too few. The minimum number of labels for any class cannot be less than n_folds=5.\n",
      "  % (min_labels, self.n_folds)), Warning)\n",
      "/opt/conda/envs/python2/lib/python2.7/site-packages/sklearn/svm/classes.py:197: DeprecationWarning: loss='l2' has been deprecated in favor of loss='squared_hinge' as of 0.16. Backward compatibility for the loss='l2' will be removed in 1.0\n",
      "  DeprecationWarning)\n",
      "/opt/conda/envs/python2/lib/python2.7/site-packages/sklearn/svm/classes.py:197: DeprecationWarning: loss='l2' has been deprecated in favor of loss='squared_hinge' as of 0.16. Backward compatibility for the loss='l2' will be removed in 1.0\n",
      "  DeprecationWarning)\n",
      "/opt/conda/envs/python2/lib/python2.7/site-packages/sklearn/svm/classes.py:197: DeprecationWarning: loss='l2' has been deprecated in favor of loss='squared_hinge' as of 0.16. Backward compatibility for the loss='l2' will be removed in 1.0\n",
      "  DeprecationWarning)\n",
      "/opt/conda/envs/python2/lib/python2.7/site-packages/sklearn/svm/classes.py:197: DeprecationWarning: loss='l2' has been deprecated in favor of loss='squared_hinge' as of 0.16. Backward compatibility for the loss='l2' will be removed in 1.0\n",
      "  DeprecationWarning)\n",
      "/opt/conda/envs/python2/lib/python2.7/site-packages/sklearn/svm/classes.py:197: DeprecationWarning: loss='l2' has been deprecated in favor of loss='squared_hinge' as of 0.16. Backward compatibility for the loss='l2' will be removed in 1.0\n",
      "  DeprecationWarning)\n",
      "/opt/conda/envs/python2/lib/python2.7/site-packages/sklearn/svm/classes.py:197: DeprecationWarning: loss='l2' has been deprecated in favor of loss='squared_hinge' as of 0.16. Backward compatibility for the loss='l2' will be removed in 1.0\n",
      "  DeprecationWarning)\n",
      "/opt/conda/envs/python2/lib/python2.7/site-packages/sklearn/svm/classes.py:197: DeprecationWarning: loss='l2' has been deprecated in favor of loss='squared_hinge' as of 0.16. Backward compatibility for the loss='l2' will be removed in 1.0\n",
      "  DeprecationWarning)\n",
      "/opt/conda/envs/python2/lib/python2.7/site-packages/sklearn/svm/classes.py:197: DeprecationWarning: loss='l2' has been deprecated in favor of loss='squared_hinge' as of 0.16. Backward compatibility for the loss='l2' will be removed in 1.0\n",
      "  DeprecationWarning)\n",
      "/opt/conda/envs/python2/lib/python2.7/site-packages/sklearn/svm/classes.py:197: DeprecationWarning: loss='l2' has been deprecated in favor of loss='squared_hinge' as of 0.16. Backward compatibility for the loss='l2' will be removed in 1.0\n",
      "  DeprecationWarning)\n",
      "/opt/conda/envs/python2/lib/python2.7/site-packages/sklearn/svm/classes.py:197: DeprecationWarning: loss='l2' has been deprecated in favor of loss='squared_hinge' as of 0.16. Backward compatibility for the loss='l2' will be removed in 1.0\n",
      "  DeprecationWarning)\n",
      "/opt/conda/envs/python2/lib/python2.7/site-packages/sklearn/svm/classes.py:197: DeprecationWarning: loss='l2' has been deprecated in favor of loss='squared_hinge' as of 0.16. Backward compatibility for the loss='l2' will be removed in 1.0\n",
      "  DeprecationWarning)\n",
      "/opt/conda/envs/python2/lib/python2.7/site-packages/sklearn/svm/classes.py:197: DeprecationWarning: loss='l2' has been deprecated in favor of loss='squared_hinge' as of 0.16. Backward compatibility for the loss='l2' will be removed in 1.0\n",
      "  DeprecationWarning)\n",
      "/opt/conda/envs/python2/lib/python2.7/site-packages/sklearn/svm/classes.py:197: DeprecationWarning: loss='l2' has been deprecated in favor of loss='squared_hinge' as of 0.16. Backward compatibility for the loss='l2' will be removed in 1.0\n",
      "  DeprecationWarning)\n",
      "/opt/conda/envs/python2/lib/python2.7/site-packages/sklearn/svm/classes.py:197: DeprecationWarning: loss='l2' has been deprecated in favor of loss='squared_hinge' as of 0.16. Backward compatibility for the loss='l2' will be removed in 1.0\n",
      "  DeprecationWarning)\n"
     ]
    }
   ],
   "source": [
    "gs_svc.fit(x_list, y_list_train)"
   ]
  },
  {
   "cell_type": "code",
   "execution_count": null,
   "metadata": {
    "collapsed": false
   },
   "outputs": [],
   "source": [
    "print gs_svc.best_params_, gs_svc.best_score_\n",
    "# overfitting underfitting 때문에.\n",
    "clf = LinearSVC(C=gs_svc.best_params_['C'])\n",
    "# C 값이 overfitting을 결정한다.\n",
    "clf.fit(x_list,y_list_train)  # fit 하면 학습이 됨."
   ]
  },
  {
   "cell_type": "code",
   "execution_count": 7,
   "metadata": {
    "collapsed": false
   },
   "outputs": [
    {
     "name": "stdout",
     "output_type": "stream",
     "text": [
      "990\n"
     ]
    }
   ],
   "source": [
    "# test\n",
    "size = len(d_list_test)\n",
    "\n",
    "sum = 0\n",
    "for num in range (0, size):\n",
    "    title = d_list_test[num]\n",
    "    vec = vectorizer.transform([title])\n",
    "    pred = clf.predict(vec)[0]\n",
    "    answer = y_list_test[num]\n",
    "    if pred == answer:\n",
    "        sum = sum + 1\n",
    "print sum"
   ]
  },
  {
   "cell_type": "code",
   "execution_count": 8,
   "metadata": {
    "collapsed": false
   },
   "outputs": [],
   "source": [
    "# 만든 모델 저장\n",
    "test = True\n",
    "if test:\n",
    "    joblib.dump(clf,'classify_test.model',compress=3)   # 학습 데이터가 저장되어 있음\n",
    "    joblib.dump(vectorizer,'vectorizer_test.dat',compress=3)\n",
    "else :\n",
    "    joblib.dump(clf,'classify.model',compress=3)   # 학습 데이터가 저장되어 있음\n",
    "    joblib.dump(vectorizer,'vectorizer.dat',compress=3)"
   ]
  },
  {
   "cell_type": "code",
   "execution_count": null,
   "metadata": {
    "collapsed": true
   },
   "outputs": [],
   "source": []
  }
 ],
 "metadata": {
  "kernelspec": {
   "display_name": "Python 2",
   "language": "python",
   "name": "python2"
  },
  "language_info": {
   "codemirror_mode": {
    "name": "ipython",
    "version": 2
   },
   "file_extension": ".py",
   "mimetype": "text/x-python",
   "name": "python",
   "nbconvert_exporter": "python",
   "pygments_lexer": "ipython2",
   "version": "2.7.11"
  },
  "widgets": {
   "state": {},
   "version": "1.1.2"
  }
 },
 "nbformat": 4,
 "nbformat_minor": 0
}
