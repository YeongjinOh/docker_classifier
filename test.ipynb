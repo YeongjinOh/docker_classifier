{
 "cells": [
  {
   "cell_type": "code",
   "execution_count": 2,
   "metadata": {
    "collapsed": true
   },
   "outputs": [],
   "source": [
    "from sklearn.externals import joblib"
   ]
  },
  {
   "cell_type": "code",
   "execution_count": 9,
   "metadata": {
    "collapsed": false
   },
   "outputs": [],
   "source": [
    "## load test model\n",
    "clf1 = joblib.load('classify_test1.model') # 분류기 엔진\n",
    "cate_dict1 = joblib.load('cate_dict1.dat') # id별 카테고리가 맵핑되어있는 파일\n",
    "vectorizer1 = joblib.load('vectorizer_test1.dat') # 제목들을 숫자 id로 변환해주는 것\n",
    "clf2 = joblib.load('classify_test2.model') \n",
    "cate_dict2 = joblib.load('cate_dict2.dat') \n",
    "vectorizer2 = joblib.load('vectorizer_test2.dat') \n",
    "clf = joblib.load('classify_test.model') # 분류기 엔진\n",
    "cate_dict = joblib.load('cate_dict.dat') # id별 카테고리가 맵핑되어있는 파일\n",
    "vectorizer = joblib.load('vectorizer_test.dat') # 제목들을 숫자 id로 변환해주는 것"
   ]
  },
  {
   "cell_type": "code",
   "execution_count": 10,
   "metadata": {
    "collapsed": false
   },
   "outputs": [],
   "source": [
    "cate_id_name_dict1 = dict(map(lambda (k,v):(v,k),cate_dict1.items()))\n",
    "cate_id_name_dict2 = dict(map(lambda (k,v):(v,k),cate_dict2.items()))"
   ]
  },
  {
   "cell_type": "code",
   "execution_count": 11,
   "metadata": {
    "collapsed": false
   },
   "outputs": [
    {
     "data": {
      "text/plain": [
       "['size.dat']"
      ]
     },
     "execution_count": 11,
     "metadata": {},
     "output_type": "execute_result"
    }
   ],
   "source": [
    "# initialize size\n",
    "size = 0\n",
    "joblib.dump(size,'size.dat')"
   ]
  },
  {
   "cell_type": "code",
   "execution_count": 12,
   "metadata": {
    "collapsed": true
   },
   "outputs": [],
   "source": [
    "# define removeStopWords\n",
    "\n",
    "mapping = { 'A/S':'AS', u'현대백화점':u' 백화점 ', u'롯데백화점':u' 백화점 ', u'대구백화점':u' 백화점 ', 'IntelIntel':' Intel ', 'IBMIBM':' IBM ',\n",
    "            u'남성':u' 남성 남성 남성 ', u'여성':u' 여성 여성 여성 ', u'남아':u' 아동 아동 아동 ', u'여아':u' 아동 아동 아동 ', u'한복':u' 한복 한복 한복 '\n",
    "          }\n",
    "\n",
    "stop_words = [u\"%즉시할인쿠폰\",  u\"5% 즉시할인\", u\"0% 즉시할인\", u\"% 즉시할인\", u\"5% 할인\", u\"0% 할인\", u\"5%할인\", u\"0%할인\", u\"% 할인\", u\"적립\",\n",
    "              u\"쿠폰\", u\"즉시\",u\"정품\", u\"증정\", u\"할인\", u\"하나 더\", u\"하나더\", u\"사은품\", u\"중고\",\n",
    "              u\"해외직배송\", u\"직배송\", u\"무료배송\", u\"안전배송\", u\"당일\", u\"배송\", u\"발송\", u\"빠른\", u\"저렴한\", u\"새로운\",\n",
    "              u\"신한카드\", u\"BC카드\", u\"KB국민카드\", u\"국민카드\", u\"롯데카드\", u\"KB카드\", u\"현대카드\", u\"삼성카드\", \n",
    "              u\"비씨카드\", u\"우리카드\", u\"제휴카드\", u\"하나카드\", u\"씨티카드\",\n",
    "              u\"일까지\"]\n",
    "symbols = [\"[\",\"]\",\"(\",\")\", \"+\", \"-\", \"/\", \"?\", \"~\", \"*\", u\"☆\", u\"★\", u\"●\", u\"♥\", u\"■\", u\"▶\", u\"◀\", u\"↑\"]\n",
    "ambg_words = [u\"해외\", u\"구매대행\"]\n",
    "\n",
    "start = 0\n",
    "length = 1\n",
    "remove_ambg = True\n",
    "\n",
    "# define concatenate function\n",
    "def concate(list1, list2) :\n",
    "    for each in list2:\n",
    "        list1.append(each)\n",
    "    return list1\n",
    "\n",
    "remove_list = concate(stop_words, symbols)\n",
    "if remove_ambg:\n",
    "    remove_list = concate(remove_list,ambg_words)\n",
    "    \n",
    "def removeStopWords(word) :\n",
    "     # replace\n",
    "    for before, after in mapping.iteritems():\n",
    "        word = word.replace(before, after)\n",
    "    #remove\n",
    "    for each in remove_list :\n",
    "        word = word.replace(each,\" \")\n",
    "    return word"
   ]
  },
  {
   "cell_type": "code",
   "execution_count": 13,
   "metadata": {
    "collapsed": true
   },
   "outputs": [],
   "source": [
    "# define splitMorph using konlpy\n",
    "\n",
    "from konlpy.tag import Twitter\n",
    "from konlpy.utils import pprint\n",
    "twit = Twitter()\n",
    "\n",
    "def splitMorph(word) :\n",
    "    morphs = twit.pos(word)\n",
    "    \n",
    "    words = \"\"\n",
    "    for morph in morphs :\n",
    "        word = morph[0]\n",
    "        words += \" \" + word\n",
    "    use_nouns = False\n",
    "    if use_nouns :\n",
    "        nouns = twit.nouns(word)\n",
    "        for noun in nouns :\n",
    "            words += \" \" + noun\n",
    "    return words"
   ]
  },
  {
   "cell_type": "code",
   "execution_count": 14,
   "metadata": {
    "collapsed": false
   },
   "outputs": [
    {
     "name": "stdout",
     "output_type": "stream",
     "text": [
      "206\n"
     ]
    }
   ],
   "source": [
    "# read json results of samples\n",
    "list_caffe_samples = joblib.load('list_caffe_samples.dat')\n",
    "list_caffe_test = joblib.load('list_caffe_test.dat')\n",
    "\n",
    "is_test = False\n",
    "\n",
    "if is_test :\n",
    "    list_caffe = list_caffe_test\n",
    "else :\n",
    "    list_caffe = list_caffe_samples\n",
    "print len(list_caffe)"
   ]
  },
  {
   "cell_type": "code",
   "execution_count": 16,
   "metadata": {
    "collapsed": false
   },
   "outputs": [
    {
     "name": "stderr",
     "output_type": "stream",
     "text": [
      "Bottle v0.12.9 server starting up (using WSGIRefServer())...\n",
      "Listening on http://0.0.0.0:8887/\n",
      "Hit Ctrl-C to quit.\n",
      "\n"
     ]
    },
    {
     "name": "stdout",
     "output_type": "stream",
     "text": [
      "classify called\n",
      "0 saved\n",
      " 남성 남성 website website web site web site computer computer computer computer machine machine machine machine device device container container\n",
      "디지털/가전;저장장치;HDD\n"
     ]
    },
    {
     "name": "stderr",
     "output_type": "stream",
     "text": [
      "192.168.99.1 - - [24/Aug/2016 12:02:42] \"GET /classify?name=%EB%82%A8%EC%84%B1&img=jkh HTTP/1.1\" 200 72\n"
     ]
    },
    {
     "name": "stdout",
     "output_type": "stream",
     "text": [
      "classify called\n"
     ]
    },
    {
     "name": "stderr",
     "output_type": "stream",
     "text": [
      "192.168.99.1 - - [24/Aug/2016 12:03:08] \"GET /classify?name=%EB%82%A8%EC%84%B1%20%EB%82%A8%EC%84%B1%20%EA%B0%80%EB%94%94%EA%B1%B4%20%EA%B0%80%EB%94%94%EA%B1%B4%20%EC%9D%98%EB%A5%98%20%EB%82%A8%EC%84%B1%20%EA%B0%80%EB%94%94%EA%B1%B4%20%EC%9D%98%EB%A5%98%20%EB%82%A8%EC%84%B1&img=jkh HTTP/1.1\" 200 89\n"
     ]
    },
    {
     "name": "stdout",
     "output_type": "stream",
     "text": [
      "classify called\n"
     ]
    },
    {
     "name": "stderr",
     "output_type": "stream",
     "text": [
      "192.168.99.1 - - [24/Aug/2016 12:03:34] \"GET /classify?name=%EB%82%A8%EC%84%B1%20%EB%82%A8%EC%84%B1%20%EA%B0%80%EB%94%94%EA%B1%B4%20%EA%B0%80%EB%94%94%EA%B1%B4%20%EC%9D%98%EB%A5%98%20%EB%82%A8%EC%84%B1%20%EB%82%A8%EC%84%B1%20%EB%82%A8%EC%84%B1%20%EB%82%A8%EC%84%B1%20%EB%82%A8%EC%84%B1%20%EB%82%A8%EC%84%B1%20%EB%82%A8%EC%84%B1%20%20%EA%B0%80%EB%94%94%EA%B1%B4%20%EC%9D%98%EB%A5%98%20%EB%82%A8%EC%84%B1&img=jkh HTTP/1.1\" 200 89\n"
     ]
    },
    {
     "name": "stdout",
     "output_type": "stream",
     "text": [
      "classify called\n"
     ]
    },
    {
     "name": "stderr",
     "output_type": "stream",
     "text": [
      "192.168.99.1 - - [24/Aug/2016 12:03:44] \"GET /classify?name=%EB%82%A8%EC%84%B1%20%EB%82%A8%EC%84%B1%20%EA%B0%80%EB%94%94%EA%B1%B4%20%EA%B0%80%EB%94%94%EA%B1%B4%20%EC%9D%98%EB%A5%98%20%EA%B0%80%EB%94%94%EA%B1%B4%20%EC%9E%AC%ED%82%B7%20%EC%9E%AC%ED%82%B7%20%EC%9E%AC%ED%82%B7%20%EC%9E%AC%ED%82%B7%20%EC%9E%AC%ED%82%B7%20%EB%82%A8%EC%84%B1%20%EB%82%A8%EC%84%B1%20%EB%82%A8%EC%84%B1%20%EB%82%A8%EC%84%B1%20%EB%82%A8%EC%84%B1%20%EB%82%A8%EC%84%B1%20%EB%82%A8%EC%84%B1%20%20%EA%B0%80%EB%94%94%EA%B1%B4%20%EC%9D%98%EB%A5%98%20%EB%82%A8%EC%84%B1&img=jkh HTTP/1.1\" 200 89\n"
     ]
    }
   ],
   "source": [
    "# server for 206 samples tests\n",
    "\n",
    "from bottle import route, run, template,request,get, post\n",
    "import  time\n",
    "from threading import  Condition\n",
    "_CONDITION = Condition()\n",
    "\n",
    "# initialize size\n",
    "size = 0\n",
    "joblib.dump(size,'size.dat')\n",
    "\n",
    "@route('/classify')\n",
    "def classify():\n",
    "    print \"classify called\"\n",
    "    img = request.GET.get('img','')\n",
    "    name = request.GET.get('name', '').decode('utf-8')\n",
    "    \n",
    "    name = removeStopWords(name)\n",
    "    name = splitMorph(name)\n",
    "    name_cate1 = name\n",
    "    \n",
    "    # read size\n",
    "    size = joblib.load('size.dat')\n",
    "    \n",
    "    # append caffe result\n",
    "    res = list_caffe[size]['result']\n",
    "    \n",
    "    if res[0] :\n",
    "        \n",
    "        for each in res[2] :\n",
    "            name_cate1 += \" \" + each[0].replace(\" \", \"\") + \" \" + each[0].replace(\" \", \"\")\n",
    "            name += \" \" + each[0].replace(\" \", \"\")\n",
    "            if float(each[1]) > 0.7 :\n",
    "                name_cate1 += \" \" + each[0]\n",
    "            if float(each[1]) > 1.0 :\n",
    "                name_cate1 += \" \" + each[0]\n",
    "            \n",
    "    \n",
    "    pred = clf.predict(vectorizer.transform([name_cate1]))[0]\n",
    "    if pred == 0 :\n",
    "        pred1 = clf1.predict(vectorizer1.transform([name]))[0]\n",
    "        cate = cate_id_name_dict1[pred1]\n",
    "    else :\n",
    "        if res[0] :\n",
    "            for each in res[1] :\n",
    "                name += \" \" + each[0].replace(\" \", \"\")\n",
    "        pred2 = clf2.predict(vectorizer2.transform([name]))[0]\n",
    "        cate = cate_id_name_dict2[pred2]\n",
    "        \n",
    "    # update and store size\n",
    "    if size % 100 == 0:\n",
    "        print \"%d saved\" % size\n",
    "        print name\n",
    "        print cate\n",
    "    \n",
    "    size = size + 1;\n",
    "    joblib.dump(size,'size.dat')\n",
    "    \n",
    "    return {'cate':cate}\n",
    "\n",
    "\n",
    "run(host='0.0.0.0', port=8887)\n",
    "#  http://somaeval.hoot.co.kr:8884/eval?url=http://  :8887&mode=all&name=oyj"
   ]
  },
  {
   "cell_type": "markdown",
   "metadata": {
    "collapsed": true
   },
   "source": [
    " * 추후 여기 docker 에서 뭔가 python package 설치할게 있으면 \n",
    " * /opt/conda/bin/pip2 install bottle 이런식으로 설치 가능"
   ]
  },
  {
   "cell_type": "code",
   "execution_count": null,
   "metadata": {
    "collapsed": true
   },
   "outputs": [],
   "source": []
  },
  {
   "cell_type": "code",
   "execution_count": null,
   "metadata": {
    "collapsed": true
   },
   "outputs": [],
   "source": []
  }
 ],
 "metadata": {
  "kernelspec": {
   "display_name": "Python 2",
   "language": "python",
   "name": "python2"
  },
  "language_info": {
   "codemirror_mode": {
    "name": "ipython",
    "version": 2
   },
   "file_extension": ".py",
   "mimetype": "text/x-python",
   "name": "python",
   "nbconvert_exporter": "python",
   "pygments_lexer": "ipython2",
   "version": "2.7.11"
  },
  "widgets": {
   "state": {},
   "version": "1.1.2"
  }
 },
 "nbformat": 4,
 "nbformat_minor": 0
}
