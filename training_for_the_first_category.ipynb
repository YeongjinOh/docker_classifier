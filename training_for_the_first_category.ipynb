{
 "cells": [
  {
   "cell_type": "code",
   "execution_count": 1,
   "metadata": {
    "collapsed": true
   },
   "outputs": [],
   "source": [
    "import pandas as pd # python에서 데이터를 조작할 때 쓰는 툴\n",
    "from sklearn.feature_extraction.text import CountVectorizer\n",
    "from sklearn.externals import joblib\n",
    "\n",
    "train_df = pd.read_pickle(\"soma_goods_train.df\")\n",
    "vectorizer = CountVectorizer()"
   ]
  },
  {
   "cell_type": "code",
   "execution_count": 2,
   "metadata": {
    "collapsed": false
   },
   "outputs": [],
   "source": [
    "# set d_list, cate_list\n",
    "\n",
    "title_list = []\n",
    "cate_list = []\n",
    "for each in train_df.iterrows():\n",
    "    cate = \";\".join([each[1]['cate1']])\n",
    "    title_list.append(each[1]['name'])\n",
    "    cate_list.append(cate)"
   ]
  },
  {
   "cell_type": "code",
   "execution_count": 3,
   "metadata": {
    "collapsed": false
   },
   "outputs": [
    {
     "data": {
      "text/plain": [
       "['cate_dict.dat']"
      ]
     },
     "execution_count": 3,
     "metadata": {},
     "output_type": "execute_result"
    }
   ],
   "source": [
    "# make cate_dict\n",
    "\n",
    "cate_dict = dict(zip(list(set(cate_list)),range(len(set(cate_list))))) # 카테고리 별로 id를 만들어주는 코드.\n",
    "joblib.dump(cate_dict,'cate_dict.dat')"
   ]
  },
  {
   "cell_type": "code",
   "execution_count": 4,
   "metadata": {
    "collapsed": false
   },
   "outputs": [],
   "source": [
    "# make y_list\n",
    "\n",
    "y_list = []\n",
    "for i in range(0,10000) :\n",
    "    y_list.append(cate_dict[cate_list[i]])"
   ]
  },
  {
   "cell_type": "code",
   "execution_count": 5,
   "metadata": {
    "collapsed": true
   },
   "outputs": [],
   "source": [
    "# define removeStopWords\n",
    "\n",
    "mapping = { 'A/S':'AS', u'현대백화점':u'백화점', u'롯데백화점':u'백화점', u'대구백화점':u'백화점', 'IntelIntel':'Intel', 'IBMIBM':'IBM'}\n",
    "stop_words = [u\"%즉시할인쿠폰\",  u\"5% 즉시할인\", u\"0% 즉시할인\", u\"% 즉시할인\", u\"5% 할인\", u\"0% 할인\", u\"5%할인\", u\"0%할인\", u\"% 할인\", u\"적립\",\n",
    "              u\"쿠폰\", u\"즉시\",u\"정품\", u\"증정\", u\"할인\", u\"하나 더\", u\"하나더\", u\"사은품\", u\"중고\",\n",
    "              u\"해외직배송\", u\"직배송\", u\"무료배송\", u\"안전배송\", u\"당일\", u\"배송\", u\"발송\", u\"빠른\", u\"저렴한\", u\"새로운\",\n",
    "              u\"신한카드\", u\"BC카드\", u\"KB국민카드\", u\"국민카드\", u\"롯데카드\", u\"KB카드\", u\"현대카드\", u\"삼성카드\", \n",
    "              u\"비씨카드\", u\"우리카드\", u\"제휴카드\", u\"하나카드\", u\"씨티카드\",\n",
    "              u\"일까지\"]\n",
    "symbols = [\"[\",\"]\",\"(\",\")\", \"+\", \"-\", \"/\", \"?\", \"~\", \"*\", u\"☆\", u\"★\", u\"●\", u\"♥\", u\"■\", u\"▶\", u\"◀\", u\"↑\"]\n",
    "ambg_words = [u\"해외\", u\"구매대행\"]\n",
    "\n",
    "start = 0\n",
    "length = 1\n",
    "remove_ambg = True\n",
    "\n",
    "# define concatenate function\n",
    "def concate(list1, list2) :\n",
    "    for each in list2:\n",
    "        list1.append(each)\n",
    "    return list1\n",
    "\n",
    "remove_list = concate(stop_words, symbols)\n",
    "if remove_ambg:\n",
    "    remove_list = concate(remove_list,ambg_words)\n",
    "    \n",
    "def removeStopWords(word) :\n",
    "     # replace\n",
    "    for before, after in mapping.iteritems():\n",
    "        word = word.replace(before, after)\n",
    "    #remove\n",
    "    for each in remove_list :\n",
    "        word = word.replace(each,\" \")\n",
    "    return word"
   ]
  },
  {
   "cell_type": "code",
   "execution_count": 6,
   "metadata": {
    "collapsed": false
   },
   "outputs": [],
   "source": [
    "# define splitMorph using konlpy\n",
    "\n",
    "from konlpy.tag import Twitter\n",
    "from konlpy.utils import pprint\n",
    "twit = Twitter()\n",
    "\n",
    "def splitMorph(word) :\n",
    "    morphs = twit.pos(word)\n",
    "    \n",
    "    words = \"\"\n",
    "    for morph in morphs :\n",
    "        word = morph[0]\n",
    "        words += \" \" + word\n",
    "    use_nouns = True\n",
    "    if use_nouns :\n",
    "        nouns = twit.nouns(word)\n",
    "        for noun in nouns :\n",
    "            words += \" \" + noun\n",
    "    return words"
   ]
  },
  {
   "cell_type": "code",
   "execution_count": 7,
   "metadata": {
    "collapsed": false
   },
   "outputs": [
    {
     "name": "stdout",
     "output_type": "stream",
     "text": [
      "10000\n"
     ]
    }
   ],
   "source": [
    "# JSON result 미리 읽어오기\n",
    "\n",
    "list_caffe = []\n",
    "list_caffe = joblib.load('list_caffe.dat')\n",
    "length = len(list_caffe)\n",
    "print length"
   ]
  },
  {
   "cell_type": "code",
   "execution_count": 8,
   "metadata": {
    "collapsed": false
   },
   "outputs": [],
   "source": [
    "# remove all stop words\n",
    "# And split all morphs\n",
    "\n",
    "length = len(title_list)\n",
    "for i in range(0, length):\n",
    "    title_list[i] = removeStopWords(title_list[i])\n",
    "    title_list[i] = splitMorph(title_list[i])"
   ]
  },
  {
   "cell_type": "code",
   "execution_count": 9,
   "metadata": {
    "collapsed": false
   },
   "outputs": [
    {
     "name": "stdout",
     "output_type": "stream",
     "text": [
      " Intel Pentium Dual Core G 2030 LGA 1155 Processor BX 80637 G 2030 toiletry toiletry lotion lotion container container covering covering binder binder\n"
     ]
    }
   ],
   "source": [
    "########### append string\n",
    "\n",
    "size = 10000\n",
    "use_caffe = True\n",
    "if use_caffe :\n",
    "    idx1 = 0\n",
    "    idx2 = 0\n",
    "    for num in range(0, size):\n",
    "        res = list_caffe[num]['result']\n",
    "        \n",
    "        if res[0] :\n",
    "            \n",
    "            title = title_list[num]\n",
    "            for each in res[2] :\n",
    "                title += \" \" + each[0].replace(\" \", \"\") + \" \" + each[0].replace(\" \", \"\")\n",
    "                if float(each[1]) > 0.7 :\n",
    "                    title += \" \" + each[0]\n",
    "                if float(each[1]) > 1.0 :\n",
    "                    title += \" \" + each[0]\n",
    "            title_list[num] = title\n",
    "                \n",
    "print title_list[10]\n",
    "# print train_df[test_num-1:test_num]"
   ]
  },
  {
   "cell_type": "code",
   "execution_count": 10,
   "metadata": {
    "collapsed": false,
    "scrolled": true
   },
   "outputs": [
    {
     "name": "stdout",
     "output_type": "stream",
     "text": [
      "1000\n",
      "9000\n"
     ]
    }
   ],
   "source": [
    "######### training set과 test set 나누기\n",
    "title_list_test = []\n",
    "title_list_train = []\n",
    "y_list_test = []\n",
    "y_list_train = []\n",
    "size = 10000\n",
    "for i in range(0,size) :\n",
    "    if i % 10 == 0:\n",
    "        title_list_test.append(title_list[i])\n",
    "        y_list_test.append(y_list[i])\n",
    "    else :\n",
    "        title_list_train.append(title_list[i])\n",
    "        y_list_train.append(y_list[i])\n",
    "        \n",
    "print len(title_list_test)\n",
    "print len(y_list_train)"
   ]
  },
  {
   "cell_type": "code",
   "execution_count": 11,
   "metadata": {
    "collapsed": true
   },
   "outputs": [],
   "source": [
    "##############################################\n",
    "\n",
    "save = True\n",
    "if save :\n",
    "    joblib.dump(title_list_test, \"title_list_test.dat\")\n",
    "    joblib.dump(title_list_train, \"title_list_train.dat\")\n",
    "    joblib.dump(y_list_test, \"y_list_test.dat\")\n",
    "    joblib.dump(y_list_train, \"y_list_train.dat\")\n",
    "        "
   ]
  },
  {
   "cell_type": "code",
   "execution_count": 1,
   "metadata": {
    "collapsed": false
   },
   "outputs": [],
   "source": [
    "#############################################\n",
    "# load\n",
    "from sklearn.feature_extraction.text import CountVectorizer\n",
    "from sklearn.externals import joblib\n",
    "\n",
    "title_list_test = joblib.load(\"title_list_test.dat\")\n",
    "title_list_train = joblib.load(\"title_list_train.dat\")\n",
    "y_list_test = joblib.load(\"y_list_test.dat\")\n",
    "y_list_train = joblib.load(\"y_list_train.dat\")\n",
    "\n",
    "vectorizer = CountVectorizer()"
   ]
  },
  {
   "cell_type": "code",
   "execution_count": 2,
   "metadata": {
    "collapsed": false
   },
   "outputs": [
    {
     "name": "stdout",
     "output_type": "stream",
     "text": [
      "(9000, 16070)\n"
     ]
    }
   ],
   "source": [
    "# create x_list\n",
    "x_list = vectorizer.fit_transform(title_list_train)\n",
    "print x_list.shape"
   ]
  },
  {
   "cell_type": "code",
   "execution_count": 3,
   "metadata": {
    "collapsed": true
   },
   "outputs": [],
   "source": [
    "from sklearn.svm import LinearSVC\n",
    "from sklearn.grid_search import GridSearchCV\n",
    "import numpy as np\n",
    "#svc_param = {'C':np.logspace(-2,0,20)} \n",
    "svc_param = {'C':np.logspace(-2,0,5)} \n",
    "gs_svc = GridSearchCV(LinearSVC(loss='l2'),svc_param,cv=5,n_jobs=4) "
   ]
  },
  {
   "cell_type": "code",
   "execution_count": 4,
   "metadata": {
    "collapsed": false,
    "scrolled": true
   },
   "outputs": [
    {
     "name": "stderr",
     "output_type": "stream",
     "text": [
      "/opt/conda/envs/python2/lib/python2.7/site-packages/sklearn/svm/classes.py:197: DeprecationWarning: loss='l2' has been deprecated in favor of loss='squared_hinge' as of 0.16. Backward compatibility for the loss='l2' will be removed in 1.0\n",
      "  DeprecationWarning)\n",
      "/opt/conda/envs/python2/lib/python2.7/site-packages/sklearn/svm/classes.py:197: DeprecationWarning: loss='l2' has been deprecated in favor of loss='squared_hinge' as of 0.16. Backward compatibility for the loss='l2' will be removed in 1.0\n",
      "  DeprecationWarning)\n",
      "/opt/conda/envs/python2/lib/python2.7/site-packages/sklearn/svm/classes.py:197: DeprecationWarning: loss='l2' has been deprecated in favor of loss='squared_hinge' as of 0.16. Backward compatibility for the loss='l2' will be removed in 1.0\n",
      "  DeprecationWarning)\n",
      "/opt/conda/envs/python2/lib/python2.7/site-packages/sklearn/svm/classes.py:197: DeprecationWarning: loss='l2' has been deprecated in favor of loss='squared_hinge' as of 0.16. Backward compatibility for the loss='l2' will be removed in 1.0\n",
      "  DeprecationWarning)\n",
      "/opt/conda/envs/python2/lib/python2.7/site-packages/sklearn/svm/classes.py:197: DeprecationWarning: loss='l2' has been deprecated in favor of loss='squared_hinge' as of 0.16. Backward compatibility for the loss='l2' will be removed in 1.0\n",
      "  DeprecationWarning)\n",
      "/opt/conda/envs/python2/lib/python2.7/site-packages/sklearn/svm/classes.py:197: DeprecationWarning: loss='l2' has been deprecated in favor of loss='squared_hinge' as of 0.16. Backward compatibility for the loss='l2' will be removed in 1.0\n",
      "  DeprecationWarning)\n",
      "/opt/conda/envs/python2/lib/python2.7/site-packages/sklearn/svm/classes.py:197: DeprecationWarning: loss='l2' has been deprecated in favor of loss='squared_hinge' as of 0.16. Backward compatibility for the loss='l2' will be removed in 1.0\n",
      "  DeprecationWarning)\n",
      "/opt/conda/envs/python2/lib/python2.7/site-packages/sklearn/svm/classes.py:197: DeprecationWarning: loss='l2' has been deprecated in favor of loss='squared_hinge' as of 0.16. Backward compatibility for the loss='l2' will be removed in 1.0\n",
      "  DeprecationWarning)\n",
      "/opt/conda/envs/python2/lib/python2.7/site-packages/sklearn/svm/classes.py:197: DeprecationWarning: loss='l2' has been deprecated in favor of loss='squared_hinge' as of 0.16. Backward compatibility for the loss='l2' will be removed in 1.0\n",
      "  DeprecationWarning)\n",
      "/opt/conda/envs/python2/lib/python2.7/site-packages/sklearn/svm/classes.py:197: DeprecationWarning: loss='l2' has been deprecated in favor of loss='squared_hinge' as of 0.16. Backward compatibility for the loss='l2' will be removed in 1.0\n",
      "  DeprecationWarning)\n",
      "/opt/conda/envs/python2/lib/python2.7/site-packages/sklearn/svm/classes.py:197: DeprecationWarning: loss='l2' has been deprecated in favor of loss='squared_hinge' as of 0.16. Backward compatibility for the loss='l2' will be removed in 1.0\n",
      "  DeprecationWarning)\n",
      "/opt/conda/envs/python2/lib/python2.7/site-packages/sklearn/svm/classes.py:197: DeprecationWarning: loss='l2' has been deprecated in favor of loss='squared_hinge' as of 0.16. Backward compatibility for the loss='l2' will be removed in 1.0\n",
      "  DeprecationWarning)\n",
      "/opt/conda/envs/python2/lib/python2.7/site-packages/sklearn/svm/classes.py:197: DeprecationWarning: loss='l2' has been deprecated in favor of loss='squared_hinge' as of 0.16. Backward compatibility for the loss='l2' will be removed in 1.0\n",
      "  DeprecationWarning)\n",
      "/opt/conda/envs/python2/lib/python2.7/site-packages/sklearn/svm/classes.py:197: DeprecationWarning: loss='l2' has been deprecated in favor of loss='squared_hinge' as of 0.16. Backward compatibility for the loss='l2' will be removed in 1.0\n",
      "  DeprecationWarning)\n",
      "/opt/conda/envs/python2/lib/python2.7/site-packages/sklearn/svm/classes.py:197: DeprecationWarning: loss='l2' has been deprecated in favor of loss='squared_hinge' as of 0.16. Backward compatibility for the loss='l2' will be removed in 1.0\n",
      "  DeprecationWarning)\n",
      "/opt/conda/envs/python2/lib/python2.7/site-packages/sklearn/svm/classes.py:197: DeprecationWarning: loss='l2' has been deprecated in favor of loss='squared_hinge' as of 0.16. Backward compatibility for the loss='l2' will be removed in 1.0\n",
      "  DeprecationWarning)\n",
      "/opt/conda/envs/python2/lib/python2.7/site-packages/sklearn/svm/classes.py:197: DeprecationWarning: loss='l2' has been deprecated in favor of loss='squared_hinge' as of 0.16. Backward compatibility for the loss='l2' will be removed in 1.0\n",
      "  DeprecationWarning)\n",
      "/opt/conda/envs/python2/lib/python2.7/site-packages/sklearn/svm/classes.py:197: DeprecationWarning: loss='l2' has been deprecated in favor of loss='squared_hinge' as of 0.16. Backward compatibility for the loss='l2' will be removed in 1.0\n",
      "  DeprecationWarning)\n",
      "/opt/conda/envs/python2/lib/python2.7/site-packages/sklearn/svm/classes.py:197: DeprecationWarning: loss='l2' has been deprecated in favor of loss='squared_hinge' as of 0.16. Backward compatibility for the loss='l2' will be removed in 1.0\n",
      "  DeprecationWarning)\n",
      "/opt/conda/envs/python2/lib/python2.7/site-packages/sklearn/svm/classes.py:197: DeprecationWarning: loss='l2' has been deprecated in favor of loss='squared_hinge' as of 0.16. Backward compatibility for the loss='l2' will be removed in 1.0\n",
      "  DeprecationWarning)\n",
      "/opt/conda/envs/python2/lib/python2.7/site-packages/sklearn/svm/classes.py:197: DeprecationWarning: loss='l2' has been deprecated in favor of loss='squared_hinge' as of 0.16. Backward compatibility for the loss='l2' will be removed in 1.0\n",
      "  DeprecationWarning)\n",
      "/opt/conda/envs/python2/lib/python2.7/site-packages/sklearn/svm/classes.py:197: DeprecationWarning: loss='l2' has been deprecated in favor of loss='squared_hinge' as of 0.16. Backward compatibility for the loss='l2' will be removed in 1.0\n",
      "  DeprecationWarning)\n",
      "/opt/conda/envs/python2/lib/python2.7/site-packages/sklearn/svm/classes.py:197: DeprecationWarning: loss='l2' has been deprecated in favor of loss='squared_hinge' as of 0.16. Backward compatibility for the loss='l2' will be removed in 1.0\n",
      "  DeprecationWarning)\n",
      "/opt/conda/envs/python2/lib/python2.7/site-packages/sklearn/svm/classes.py:197: DeprecationWarning: loss='l2' has been deprecated in favor of loss='squared_hinge' as of 0.16. Backward compatibility for the loss='l2' will be removed in 1.0\n",
      "  DeprecationWarning)\n",
      "/opt/conda/envs/python2/lib/python2.7/site-packages/sklearn/svm/classes.py:197: DeprecationWarning: loss='l2' has been deprecated in favor of loss='squared_hinge' as of 0.16. Backward compatibility for the loss='l2' will be removed in 1.0\n",
      "  DeprecationWarning)\n",
      "/opt/conda/envs/python2/lib/python2.7/site-packages/sklearn/svm/classes.py:197: DeprecationWarning: loss='l2' has been deprecated in favor of loss='squared_hinge' as of 0.16. Backward compatibility for the loss='l2' will be removed in 1.0\n",
      "  DeprecationWarning)\n"
     ]
    },
    {
     "data": {
      "text/plain": [
       "GridSearchCV(cv=5, error_score='raise',\n",
       "       estimator=LinearSVC(C=1.0, class_weight=None, dual=True, fit_intercept=True,\n",
       "     intercept_scaling=1, loss='l2', max_iter=1000, multi_class='ovr',\n",
       "     penalty='l2', random_state=None, tol=0.0001, verbose=0),\n",
       "       fit_params={}, iid=True, n_jobs=4,\n",
       "       param_grid={'C': array([ 0.01   ,  0.03162,  0.1    ,  0.31623,  1.     ])},\n",
       "       pre_dispatch='2*n_jobs', refit=True, scoring=None, verbose=0)"
      ]
     },
     "execution_count": 4,
     "metadata": {},
     "output_type": "execute_result"
    }
   ],
   "source": [
    "gs_svc.fit(x_list, y_list_train)"
   ]
  },
  {
   "cell_type": "code",
   "execution_count": 5,
   "metadata": {
    "collapsed": false
   },
   "outputs": [
    {
     "name": "stdout",
     "output_type": "stream",
     "text": [
      "{'C': 1.0} 0.981333333333\n"
     ]
    },
    {
     "data": {
      "text/plain": [
       "LinearSVC(C=1.0, class_weight=None, dual=True, fit_intercept=True,\n",
       "     intercept_scaling=1, loss='squared_hinge', max_iter=1000,\n",
       "     multi_class='ovr', penalty='l2', random_state=None, tol=0.0001,\n",
       "     verbose=0)"
      ]
     },
     "execution_count": 5,
     "metadata": {},
     "output_type": "execute_result"
    }
   ],
   "source": [
    "print gs_svc.best_params_, gs_svc.best_score_\n",
    "# overfitting underfitting 때문에.\n",
    "clf = LinearSVC(C=gs_svc.best_params_['C'])\n",
    "# C 값이 overfitting을 결정한다.\n",
    "clf.fit(x_list,y_list_train)  # fit 하면 학습이 됨."
   ]
  },
  {
   "cell_type": "code",
   "execution_count": 6,
   "metadata": {
    "collapsed": false
   },
   "outputs": [
    {
     "name": "stdout",
     "output_type": "stream",
     "text": [
      "0.987\n"
     ]
    }
   ],
   "source": [
    "# test\n",
    "size = len(title_list_test)\n",
    "sum = 0\n",
    "for num in range (0, size):\n",
    "    title = title_list_test[num]\n",
    "    vec = vectorizer.transform([title])\n",
    "    pred = clf.predict(vec)[0]\n",
    "    answer = y_list_test[num]\n",
    "    if pred == answer:\n",
    "        sum = sum + 1\n",
    "print float(sum)/float(size)"
   ]
  },
  {
   "cell_type": "code",
   "execution_count": 7,
   "metadata": {
    "collapsed": false
   },
   "outputs": [
    {
     "data": {
      "text/plain": [
       "['vectorizer_test.dat']"
      ]
     },
     "execution_count": 7,
     "metadata": {},
     "output_type": "execute_result"
    }
   ],
   "source": [
    "# 만든 모델 저장\n",
    "joblib.dump(clf,'classify_test.model',compress=3)\n",
    "joblib.dump(vectorizer,'vectorizer_test.dat',compress=3)"
   ]
  },
  {
   "cell_type": "code",
   "execution_count": null,
   "metadata": {
    "collapsed": true
   },
   "outputs": [],
   "source": []
  }
 ],
 "metadata": {
  "kernelspec": {
   "display_name": "Python 2",
   "language": "python",
   "name": "python2"
  },
  "language_info": {
   "codemirror_mode": {
    "name": "ipython",
    "version": 2
   },
   "file_extension": ".py",
   "mimetype": "text/x-python",
   "name": "python",
   "nbconvert_exporter": "python",
   "pygments_lexer": "ipython2",
   "version": "2.7.11"
  },
  "widgets": {
   "state": {},
   "version": "1.1.2"
  }
 },
 "nbformat": 4,
 "nbformat_minor": 0
}
