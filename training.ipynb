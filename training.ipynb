{
 "cells": [
  {
   "cell_type": "code",
   "execution_count": 1,
   "metadata": {
    "collapsed": true
   },
   "outputs": [],
   "source": [
    "import pandas as pd # python에서 데이터를 조작할 때 쓰는 툴\n",
    "from sklearn.feature_extraction.text import CountVectorizer\n",
    "from sklearn.externals import joblib\n",
    "cate_depth = 1\n",
    "train_df = pd.read_pickle(\"soma_goods_train.df\")\n",
    "vectorizer1 = CountVectorizer()\n",
    "vectorizer2 = CountVectorizer()"
   ]
  },
  {
   "cell_type": "code",
   "execution_count": 2,
   "metadata": {
    "collapsed": false
   },
   "outputs": [],
   "source": [
    "# set d_list, cate_list\n",
    "\n",
    "title_list1 = []\n",
    "title_list2 = []\n",
    "cate_list1 = []\n",
    "cate_list2 = []\n",
    "idx_list = []\n",
    "for each in train_df.iterrows():\n",
    "    cate = \";\".join([each[1]['cate1'],each[1]['cate2'],each[1]['cate3']])\n",
    "    if each[1]['cate1'] == u'디지털/가전' :\n",
    "        idx_list.append(1)\n",
    "        title_list1.append(each[1]['name'])\n",
    "        cate_list1.append(cate)\n",
    "    else :\n",
    "        idx_list.append(2)\n",
    "        title_list2.append(each[1]['name'])\n",
    "        cate_list2.append(cate)"
   ]
  },
  {
   "cell_type": "code",
   "execution_count": 3,
   "metadata": {
    "collapsed": false
   },
   "outputs": [
    {
     "name": "stdout",
     "output_type": "stream",
     "text": [
      "0\n",
      "2\n"
     ]
    }
   ],
   "source": [
    "# make cate_dict\n",
    "\n",
    "cate_dict1 = dict(zip(list(set(cate_list1)),range(len(set(cate_list1))))) # 카테고리 별로 id를 만들어주는 코드.\n",
    "cate_dict2 = dict(zip(list(set(cate_list2)),range(len(set(cate_list2)))))\n",
    "joblib.dump(cate_dict1,'cate_dict1.dat')\n",
    "joblib.dump(cate_dict2,'cate_dict2.dat')\n",
    "\n",
    "print cate_dict1[u'디지털/가전;네트워크장비;KVM스위치']\n",
    "print cate_dict2[u'패션의류;남성의류;정장']"
   ]
  },
  {
   "cell_type": "code",
   "execution_count": 4,
   "metadata": {
    "collapsed": false
   },
   "outputs": [],
   "source": [
    "# make y_list\n",
    "\n",
    "y_list1 = []\n",
    "y_list2 = []\n",
    "idx1 = 0\n",
    "idx2 = 0\n",
    "for i in range(0,10000) :\n",
    "    if idx_list[i] == 1 :\n",
    "        y_list1.append(cate_dict1[cate_list1[idx1]])\n",
    "        idx1 = idx1 + 1\n",
    "    else :\n",
    "        y_list2.append(cate_dict2[cate_list2[idx2]])\n",
    "        idx2 = idx2 + 1"
   ]
  },
  {
   "cell_type": "code",
   "execution_count": 5,
   "metadata": {
    "collapsed": true
   },
   "outputs": [],
   "source": [
    "# define removeStopWords\n",
    "\n",
    "mapping = { 'A/S':'AS', u'현대백화점':u'백화점', u'롯데백화점':u'백화점', u'대구백화점':u'백화점', 'IntelIntel':'Intel', 'IBMIBM':'IBM'}\n",
    "stop_words = [u\"%즉시할인쿠폰\",  u\"5% 즉시할인\", u\"0% 즉시할인\", u\"% 즉시할인\", u\"5% 할인\", u\"0% 할인\", u\"5%할인\", u\"0%할인\", u\"% 할인\", u\"적립\",\n",
    "              u\"쿠폰\", u\"즉시\",u\"정품\", u\"증정\", u\"할인\", u\"하나 더\", u\"하나더\", u\"사은품\", u\"중고\",\n",
    "              u\"해외직배송\", u\"직배송\", u\"무료배송\", u\"안전배송\", u\"당일\", u\"배송\", u\"발송\", u\"빠른\", u\"저렴한\", u\"새로운\",\n",
    "              u\"신한카드\", u\"BC카드\", u\"KB국민카드\", u\"국민카드\", u\"롯데카드\", u\"KB카드\", u\"현대카드\", u\"삼성카드\", \n",
    "              u\"비씨카드\", u\"우리카드\", u\"제휴카드\", u\"하나카드\", u\"씨티카드\",\n",
    "              u\"일까지\"]\n",
    "symbols = [\"[\",\"]\",\"(\",\")\", \"+\", \"-\", \"/\", \"?\", \"~\", \"*\", u\"☆\", u\"★\", u\"●\", u\"♥\", u\"■\", u\"▶\", u\"◀\", u\"↑\"]\n",
    "ambg_words = [u\"해외\", u\"구매대행\"]\n",
    "\n",
    "start = 0\n",
    "length = 1\n",
    "remove_ambg = True\n",
    "\n",
    "# define concatenate function\n",
    "def concate(list1, list2) :\n",
    "    for each in list2:\n",
    "        list1.append(each)\n",
    "    return list1\n",
    "\n",
    "remove_list = concate(stop_words, symbols)\n",
    "if remove_ambg:\n",
    "    remove_list = concate(remove_list,ambg_words)\n",
    "    \n",
    "def removeStopWords(word) :\n",
    "     # replace\n",
    "    for before, after in mapping.iteritems():\n",
    "        word = word.replace(before, after)\n",
    "    #remove\n",
    "    for each in remove_list :\n",
    "        word = word.replace(each,\" \")\n",
    "    return word"
   ]
  },
  {
   "cell_type": "code",
   "execution_count": 6,
   "metadata": {
    "collapsed": false
   },
   "outputs": [],
   "source": [
    "# define splitMorph using konlpy\n",
    "\n",
    "from konlpy.tag import Twitter\n",
    "from konlpy.utils import pprint\n",
    "twit = Twitter()\n",
    "\n",
    "def splitMorph(word) :\n",
    "    morphs = twit.pos(word)\n",
    "    \n",
    "    words = \"\"\n",
    "    for morph in morphs :\n",
    "        word = morph[0]\n",
    "        words += \" \" + word\n",
    "    use_nouns = True\n",
    "    if use_nouns :\n",
    "        nouns = twit.nouns(word)\n",
    "        for noun in nouns :\n",
    "            words += \" \" + noun\n",
    "    return words"
   ]
  },
  {
   "cell_type": "code",
   "execution_count": 7,
   "metadata": {
    "collapsed": false
   },
   "outputs": [],
   "source": [
    "# remove all stop words\n",
    "# And split all morphs\n",
    "\n",
    "length = len(title_list1)\n",
    "for i in range(0, length):\n",
    "    title_list1[i] = removeStopWords(title_list1[i])\n",
    "    title_list1[i] = splitMorph(title_list1[i])\n",
    "\n",
    "length = len(title_list2)\n",
    "for i in range(0, length):\n",
    "    title_list2[i] = removeStopWords(title_list2[i])\n",
    "    title_list2[i] = splitMorph(title_list2[i])    \n",
    "    "
   ]
  },
  {
   "cell_type": "code",
   "execution_count": 8,
   "metadata": {
    "collapsed": false
   },
   "outputs": [
    {
     "name": "stdout",
     "output_type": "stream",
     "text": [
      "10000\n"
     ]
    }
   ],
   "source": [
    "# JSON result 미리 읽어오기\n",
    "\n",
    "list_caffe = []\n",
    "list_caffe = joblib.load('list_caffe.dat')\n",
    "length = len(list_caffe)\n",
    "print length"
   ]
  },
  {
   "cell_type": "code",
   "execution_count": 9,
   "metadata": {
    "collapsed": false
   },
   "outputs": [
    {
     "name": "stdout",
     "output_type": "stream",
     "text": [
      " Intel Pentium Dual Core G 2030 LGA 1155 Processor BX 80637 G 2030 toiletry lotion container covering binder\n"
     ]
    }
   ],
   "source": [
    "########### append string\n",
    "size = 10000\n",
    "use_caffe = True\n",
    "if use_caffe :\n",
    "    idx1 = 0\n",
    "    idx2 = 0\n",
    "    for num in range(0, size):\n",
    "        res = list_caffe[num]['result']\n",
    "        \n",
    "        if res[0] :\n",
    "            if idx_list[num] == 1:\n",
    "                title = title_list1[idx1]\n",
    "            else :\n",
    "                title = title_list2[idx2]\n",
    "                \n",
    "            for each in res[2] :\n",
    "                title += \" \" + each[0].replace(\" \", \"\")\n",
    "                \n",
    "            if idx_list[num] == 1:\n",
    "                title_list1[idx1] = title\n",
    "                idx1 = idx1 + 1\n",
    "            else :\n",
    "                title_list2[idx2] = title\n",
    "                idx2 = idx2 + 1\n",
    "                \n",
    "                \n",
    "print title_list1[10]\n",
    "# print train_df[test_num-1:test_num]"
   ]
  },
  {
   "cell_type": "code",
   "execution_count": 10,
   "metadata": {
    "collapsed": false,
    "scrolled": true
   },
   "outputs": [
    {
     "name": "stdout",
     "output_type": "stream",
     "text": [
      "600\n",
      "3600\n"
     ]
    }
   ],
   "source": [
    "######### training set과 test set 나누기\n",
    "title_list1_test = []\n",
    "title_list2_test = []\n",
    "title_list1_train = []\n",
    "title_list2_train = []\n",
    "y_list1_test = []\n",
    "y_list2_test = []\n",
    "y_list1_train = []\n",
    "y_list2_train = []\n",
    "size = 10000\n",
    "idx1 = 0\n",
    "idx2 = 0\n",
    "for i in range(0,size) :\n",
    "    if i % 10 == 0:\n",
    "        if idx_list[i] == 1:\n",
    "            title_list1_test.append(title_list1[idx1])\n",
    "            y_list1_test.append(y_list1[idx1])\n",
    "            idx1 = idx1 + 1\n",
    "        else :\n",
    "            title_list2_test.append(title_list2[idx2])\n",
    "            y_list2_test.append(y_list2[idx2])\n",
    "            idx2 = idx2 + 1\n",
    "    else :\n",
    "        if idx_list[i] == 1:\n",
    "            title_list1_train.append(title_list1[idx1])\n",
    "            y_list1_train.append(y_list1[idx1])\n",
    "            idx1 = idx1 + 1\n",
    "        else :\n",
    "            title_list2_train.append(title_list2[idx2])\n",
    "            y_list2_train.append(y_list2[idx2])\n",
    "            idx2 = idx2 + 1\n",
    "print len(title_list1_test)\n",
    "print len(y_list2_train)"
   ]
  },
  {
   "cell_type": "code",
   "execution_count": 11,
   "metadata": {
    "collapsed": true
   },
   "outputs": [],
   "source": [
    "##############################################\n",
    "\n",
    "save = True\n",
    "if save :\n",
    "    joblib.dump(title_list1_test, \"title_list1_test.dat\")\n",
    "    joblib.dump(title_list1_train, \"title_list1_train.dat\")\n",
    "    joblib.dump(title_list2_test, \"title_list2_test.dat\")\n",
    "    joblib.dump(title_list2_train, \"title_list2_train.dat\")\n",
    "\n",
    "    joblib.dump(y_list1_test, \"y_list1_test.dat\")\n",
    "    joblib.dump(y_list1_train, \"y_list1_train.dat\")\n",
    "    joblib.dump(y_list2_test, \"y_list2_test.dat\")\n",
    "    joblib.dump(y_list2_train, \"y_list2_train.dat\")\n",
    "        "
   ]
  },
  {
   "cell_type": "code",
   "execution_count": 1,
   "metadata": {
    "collapsed": false
   },
   "outputs": [],
   "source": [
    "#############################################\n",
    "# load\n",
    "from sklearn.feature_extraction.text import CountVectorizer\n",
    "from sklearn.externals import joblib\n",
    "\n",
    "title_list1_test = joblib.load(\"title_list1_test.dat\")\n",
    "title_list1_train = joblib.load(\"title_list1_train.dat\")\n",
    "title_list2_test = joblib.load(\"title_list2_test.dat\")\n",
    "title_list2_train = joblib.load(\"title_list2_train.dat\")\n",
    "\n",
    "y_list1_test = joblib.load(\"y_list1_test.dat\")\n",
    "y_list1_train = joblib.load(\"y_list1_train.dat\")\n",
    "y_list2_test = joblib.load(\"y_list2_test.dat\")\n",
    "y_list2_train = joblib.load(\"y_list2_train.dat\")\n",
    "\n",
    "vectorizer1 = CountVectorizer()\n",
    "vectorizer2 = CountVectorizer()"
   ]
  },
  {
   "cell_type": "code",
   "execution_count": 2,
   "metadata": {
    "collapsed": false
   },
   "outputs": [
    {
     "name": "stdout",
     "output_type": "stream",
     "text": [
      "(5400, 10263)\n",
      "(3600, 7851)\n"
     ]
    }
   ],
   "source": [
    "# create x_list\n",
    "x_list1 = vectorizer1.fit_transform(title_list1_train)\n",
    "x_list2 = vectorizer2.fit_transform(title_list2_train)\n",
    "print x_list1.shape\n",
    "print x_list2.shape"
   ]
  },
  {
   "cell_type": "code",
   "execution_count": 3,
   "metadata": {
    "collapsed": true
   },
   "outputs": [],
   "source": [
    "from sklearn.svm import LinearSVC\n",
    "from sklearn.grid_search import GridSearchCV\n",
    "import numpy as np\n",
    "#svc_param = {'C':np.logspace(-2,0,20)} \n",
    "svc_param = {'C':np.logspace(-2,0,5)} \n",
    "gs_svc1 = GridSearchCV(LinearSVC(loss='l2'),svc_param,cv=5,n_jobs=4) \n",
    "gs_svc2 = GridSearchCV(LinearSVC(loss='l2'),svc_param,cv=5,n_jobs=4) "
   ]
  },
  {
   "cell_type": "code",
   "execution_count": 4,
   "metadata": {
    "collapsed": false,
    "scrolled": true
   },
   "outputs": [
    {
     "name": "stderr",
     "output_type": "stream",
     "text": [
      "/opt/conda/envs/python2/lib/python2.7/site-packages/sklearn/svm/classes.py:197: DeprecationWarning: loss='l2' has been deprecated in favor of loss='squared_hinge' as of 0.16. Backward compatibility for the loss='l2' will be removed in 1.0\n",
      "  DeprecationWarning)\n",
      "/opt/conda/envs/python2/lib/python2.7/site-packages/sklearn/svm/classes.py:197: DeprecationWarning: loss='l2' has been deprecated in favor of loss='squared_hinge' as of 0.16. Backward compatibility for the loss='l2' will be removed in 1.0\n",
      "  DeprecationWarning)\n",
      "/opt/conda/envs/python2/lib/python2.7/site-packages/sklearn/svm/classes.py:197: DeprecationWarning: loss='l2' has been deprecated in favor of loss='squared_hinge' as of 0.16. Backward compatibility for the loss='l2' will be removed in 1.0\n",
      "  DeprecationWarning)\n",
      "/opt/conda/envs/python2/lib/python2.7/site-packages/sklearn/svm/classes.py:197: DeprecationWarning: loss='l2' has been deprecated in favor of loss='squared_hinge' as of 0.16. Backward compatibility for the loss='l2' will be removed in 1.0\n",
      "  DeprecationWarning)\n",
      "/opt/conda/envs/python2/lib/python2.7/site-packages/sklearn/svm/classes.py:197: DeprecationWarning: loss='l2' has been deprecated in favor of loss='squared_hinge' as of 0.16. Backward compatibility for the loss='l2' will be removed in 1.0\n",
      "  DeprecationWarning)\n",
      "/opt/conda/envs/python2/lib/python2.7/site-packages/sklearn/svm/classes.py:197: DeprecationWarning: loss='l2' has been deprecated in favor of loss='squared_hinge' as of 0.16. Backward compatibility for the loss='l2' will be removed in 1.0\n",
      "  DeprecationWarning)\n",
      "/opt/conda/envs/python2/lib/python2.7/site-packages/sklearn/svm/classes.py:197: DeprecationWarning: loss='l2' has been deprecated in favor of loss='squared_hinge' as of 0.16. Backward compatibility for the loss='l2' will be removed in 1.0\n",
      "  DeprecationWarning)\n",
      "/opt/conda/envs/python2/lib/python2.7/site-packages/sklearn/svm/classes.py:197: DeprecationWarning: loss='l2' has been deprecated in favor of loss='squared_hinge' as of 0.16. Backward compatibility for the loss='l2' will be removed in 1.0\n",
      "  DeprecationWarning)\n",
      "/opt/conda/envs/python2/lib/python2.7/site-packages/sklearn/svm/classes.py:197: DeprecationWarning: loss='l2' has been deprecated in favor of loss='squared_hinge' as of 0.16. Backward compatibility for the loss='l2' will be removed in 1.0\n",
      "  DeprecationWarning)\n",
      "/opt/conda/envs/python2/lib/python2.7/site-packages/sklearn/svm/classes.py:197: DeprecationWarning: loss='l2' has been deprecated in favor of loss='squared_hinge' as of 0.16. Backward compatibility for the loss='l2' will be removed in 1.0\n",
      "  DeprecationWarning)\n",
      "/opt/conda/envs/python2/lib/python2.7/site-packages/sklearn/svm/classes.py:197: DeprecationWarning: loss='l2' has been deprecated in favor of loss='squared_hinge' as of 0.16. Backward compatibility for the loss='l2' will be removed in 1.0\n",
      "  DeprecationWarning)\n",
      "/opt/conda/envs/python2/lib/python2.7/site-packages/sklearn/svm/classes.py:197: DeprecationWarning: loss='l2' has been deprecated in favor of loss='squared_hinge' as of 0.16. Backward compatibility for the loss='l2' will be removed in 1.0\n",
      "  DeprecationWarning)\n",
      "/opt/conda/envs/python2/lib/python2.7/site-packages/sklearn/svm/classes.py:197: DeprecationWarning: loss='l2' has been deprecated in favor of loss='squared_hinge' as of 0.16. Backward compatibility for the loss='l2' will be removed in 1.0\n",
      "  DeprecationWarning)\n",
      "/opt/conda/envs/python2/lib/python2.7/site-packages/sklearn/svm/classes.py:197: DeprecationWarning: loss='l2' has been deprecated in favor of loss='squared_hinge' as of 0.16. Backward compatibility for the loss='l2' will be removed in 1.0\n",
      "  DeprecationWarning)\n",
      "/opt/conda/envs/python2/lib/python2.7/site-packages/sklearn/svm/classes.py:197: DeprecationWarning: loss='l2' has been deprecated in favor of loss='squared_hinge' as of 0.16. Backward compatibility for the loss='l2' will be removed in 1.0\n",
      "  DeprecationWarning)\n",
      "/opt/conda/envs/python2/lib/python2.7/site-packages/sklearn/svm/classes.py:197: DeprecationWarning: loss='l2' has been deprecated in favor of loss='squared_hinge' as of 0.16. Backward compatibility for the loss='l2' will be removed in 1.0\n",
      "  DeprecationWarning)\n",
      "/opt/conda/envs/python2/lib/python2.7/site-packages/sklearn/svm/classes.py:197: DeprecationWarning: loss='l2' has been deprecated in favor of loss='squared_hinge' as of 0.16. Backward compatibility for the loss='l2' will be removed in 1.0\n",
      "  DeprecationWarning)\n",
      "/opt/conda/envs/python2/lib/python2.7/site-packages/sklearn/svm/classes.py:197: DeprecationWarning: loss='l2' has been deprecated in favor of loss='squared_hinge' as of 0.16. Backward compatibility for the loss='l2' will be removed in 1.0\n",
      "  DeprecationWarning)\n",
      "/opt/conda/envs/python2/lib/python2.7/site-packages/sklearn/svm/classes.py:197: DeprecationWarning: loss='l2' has been deprecated in favor of loss='squared_hinge' as of 0.16. Backward compatibility for the loss='l2' will be removed in 1.0\n",
      "  DeprecationWarning)\n",
      "/opt/conda/envs/python2/lib/python2.7/site-packages/sklearn/svm/classes.py:197: DeprecationWarning: loss='l2' has been deprecated in favor of loss='squared_hinge' as of 0.16. Backward compatibility for the loss='l2' will be removed in 1.0\n",
      "  DeprecationWarning)\n",
      "/opt/conda/envs/python2/lib/python2.7/site-packages/sklearn/svm/classes.py:197: DeprecationWarning: loss='l2' has been deprecated in favor of loss='squared_hinge' as of 0.16. Backward compatibility for the loss='l2' will be removed in 1.0\n",
      "  DeprecationWarning)\n",
      "/opt/conda/envs/python2/lib/python2.7/site-packages/sklearn/svm/classes.py:197: DeprecationWarning: loss='l2' has been deprecated in favor of loss='squared_hinge' as of 0.16. Backward compatibility for the loss='l2' will be removed in 1.0\n",
      "  DeprecationWarning)\n",
      "/opt/conda/envs/python2/lib/python2.7/site-packages/sklearn/svm/classes.py:197: DeprecationWarning: loss='l2' has been deprecated in favor of loss='squared_hinge' as of 0.16. Backward compatibility for the loss='l2' will be removed in 1.0\n",
      "  DeprecationWarning)\n",
      "/opt/conda/envs/python2/lib/python2.7/site-packages/sklearn/svm/classes.py:197: DeprecationWarning: loss='l2' has been deprecated in favor of loss='squared_hinge' as of 0.16. Backward compatibility for the loss='l2' will be removed in 1.0\n",
      "  DeprecationWarning)\n",
      "/opt/conda/envs/python2/lib/python2.7/site-packages/sklearn/svm/classes.py:197: DeprecationWarning: loss='l2' has been deprecated in favor of loss='squared_hinge' as of 0.16. Backward compatibility for the loss='l2' will be removed in 1.0\n",
      "  DeprecationWarning)\n",
      "/opt/conda/envs/python2/lib/python2.7/site-packages/sklearn/svm/classes.py:197: DeprecationWarning: loss='l2' has been deprecated in favor of loss='squared_hinge' as of 0.16. Backward compatibility for the loss='l2' will be removed in 1.0\n",
      "  DeprecationWarning)\n",
      "/opt/conda/envs/python2/lib/python2.7/site-packages/sklearn/cross_validation.py:516: Warning: The least populated class in y has only 3 members, which is too few. The minimum number of labels for any class cannot be less than n_folds=5.\n",
      "  % (min_labels, self.n_folds)), Warning)\n",
      "/opt/conda/envs/python2/lib/python2.7/site-packages/sklearn/svm/classes.py:197: DeprecationWarning: loss='l2' has been deprecated in favor of loss='squared_hinge' as of 0.16. Backward compatibility for the loss='l2' will be removed in 1.0\n",
      "  DeprecationWarning)\n",
      "/opt/conda/envs/python2/lib/python2.7/site-packages/sklearn/svm/classes.py:197: DeprecationWarning: loss='l2' has been deprecated in favor of loss='squared_hinge' as of 0.16. Backward compatibility for the loss='l2' will be removed in 1.0\n",
      "  DeprecationWarning)\n",
      "/opt/conda/envs/python2/lib/python2.7/site-packages/sklearn/svm/classes.py:197: DeprecationWarning: loss='l2' has been deprecated in favor of loss='squared_hinge' as of 0.16. Backward compatibility for the loss='l2' will be removed in 1.0\n",
      "  DeprecationWarning)\n",
      "/opt/conda/envs/python2/lib/python2.7/site-packages/sklearn/svm/classes.py:197: DeprecationWarning: loss='l2' has been deprecated in favor of loss='squared_hinge' as of 0.16. Backward compatibility for the loss='l2' will be removed in 1.0\n",
      "  DeprecationWarning)\n",
      "/opt/conda/envs/python2/lib/python2.7/site-packages/sklearn/svm/classes.py:197: DeprecationWarning: loss='l2' has been deprecated in favor of loss='squared_hinge' as of 0.16. Backward compatibility for the loss='l2' will be removed in 1.0\n",
      "  DeprecationWarning)\n",
      "/opt/conda/envs/python2/lib/python2.7/site-packages/sklearn/svm/classes.py:197: DeprecationWarning: loss='l2' has been deprecated in favor of loss='squared_hinge' as of 0.16. Backward compatibility for the loss='l2' will be removed in 1.0\n",
      "  DeprecationWarning)\n",
      "/opt/conda/envs/python2/lib/python2.7/site-packages/sklearn/svm/classes.py:197: DeprecationWarning: loss='l2' has been deprecated in favor of loss='squared_hinge' as of 0.16. Backward compatibility for the loss='l2' will be removed in 1.0\n",
      "  DeprecationWarning)\n",
      "/opt/conda/envs/python2/lib/python2.7/site-packages/sklearn/svm/classes.py:197: DeprecationWarning: loss='l2' has been deprecated in favor of loss='squared_hinge' as of 0.16. Backward compatibility for the loss='l2' will be removed in 1.0\n",
      "  DeprecationWarning)\n",
      "/opt/conda/envs/python2/lib/python2.7/site-packages/sklearn/svm/classes.py:197: DeprecationWarning: loss='l2' has been deprecated in favor of loss='squared_hinge' as of 0.16. Backward compatibility for the loss='l2' will be removed in 1.0\n",
      "  DeprecationWarning)\n",
      "/opt/conda/envs/python2/lib/python2.7/site-packages/sklearn/svm/classes.py:197: DeprecationWarning: loss='l2' has been deprecated in favor of loss='squared_hinge' as of 0.16. Backward compatibility for the loss='l2' will be removed in 1.0\n",
      "  DeprecationWarning)\n",
      "/opt/conda/envs/python2/lib/python2.7/site-packages/sklearn/svm/classes.py:197: DeprecationWarning: loss='l2' has been deprecated in favor of loss='squared_hinge' as of 0.16. Backward compatibility for the loss='l2' will be removed in 1.0\n",
      "  DeprecationWarning)\n",
      "/opt/conda/envs/python2/lib/python2.7/site-packages/sklearn/svm/classes.py:197: DeprecationWarning: loss='l2' has been deprecated in favor of loss='squared_hinge' as of 0.16. Backward compatibility for the loss='l2' will be removed in 1.0\n",
      "  DeprecationWarning)\n",
      "/opt/conda/envs/python2/lib/python2.7/site-packages/sklearn/svm/classes.py:197: DeprecationWarning: loss='l2' has been deprecated in favor of loss='squared_hinge' as of 0.16. Backward compatibility for the loss='l2' will be removed in 1.0\n",
      "  DeprecationWarning)\n",
      "/opt/conda/envs/python2/lib/python2.7/site-packages/sklearn/svm/classes.py:197: DeprecationWarning: loss='l2' has been deprecated in favor of loss='squared_hinge' as of 0.16. Backward compatibility for the loss='l2' will be removed in 1.0\n",
      "  DeprecationWarning)\n",
      "/opt/conda/envs/python2/lib/python2.7/site-packages/sklearn/svm/classes.py:197: DeprecationWarning: loss='l2' has been deprecated in favor of loss='squared_hinge' as of 0.16. Backward compatibility for the loss='l2' will be removed in 1.0\n",
      "  DeprecationWarning)\n",
      "/opt/conda/envs/python2/lib/python2.7/site-packages/sklearn/svm/classes.py:197: DeprecationWarning: loss='l2' has been deprecated in favor of loss='squared_hinge' as of 0.16. Backward compatibility for the loss='l2' will be removed in 1.0\n",
      "  DeprecationWarning)\n",
      "/opt/conda/envs/python2/lib/python2.7/site-packages/sklearn/svm/classes.py:197: DeprecationWarning: loss='l2' has been deprecated in favor of loss='squared_hinge' as of 0.16. Backward compatibility for the loss='l2' will be removed in 1.0\n",
      "  DeprecationWarning)\n",
      "/opt/conda/envs/python2/lib/python2.7/site-packages/sklearn/svm/classes.py:197: DeprecationWarning: loss='l2' has been deprecated in favor of loss='squared_hinge' as of 0.16. Backward compatibility for the loss='l2' will be removed in 1.0\n",
      "  DeprecationWarning)\n",
      "/opt/conda/envs/python2/lib/python2.7/site-packages/sklearn/svm/classes.py:197: DeprecationWarning: loss='l2' has been deprecated in favor of loss='squared_hinge' as of 0.16. Backward compatibility for the loss='l2' will be removed in 1.0\n",
      "  DeprecationWarning)\n",
      "/opt/conda/envs/python2/lib/python2.7/site-packages/sklearn/svm/classes.py:197: DeprecationWarning: loss='l2' has been deprecated in favor of loss='squared_hinge' as of 0.16. Backward compatibility for the loss='l2' will be removed in 1.0\n",
      "  DeprecationWarning)\n",
      "/opt/conda/envs/python2/lib/python2.7/site-packages/sklearn/svm/classes.py:197: DeprecationWarning: loss='l2' has been deprecated in favor of loss='squared_hinge' as of 0.16. Backward compatibility for the loss='l2' will be removed in 1.0\n",
      "  DeprecationWarning)\n",
      "/opt/conda/envs/python2/lib/python2.7/site-packages/sklearn/svm/classes.py:197: DeprecationWarning: loss='l2' has been deprecated in favor of loss='squared_hinge' as of 0.16. Backward compatibility for the loss='l2' will be removed in 1.0\n",
      "  DeprecationWarning)\n",
      "/opt/conda/envs/python2/lib/python2.7/site-packages/sklearn/svm/classes.py:197: DeprecationWarning: loss='l2' has been deprecated in favor of loss='squared_hinge' as of 0.16. Backward compatibility for the loss='l2' will be removed in 1.0\n",
      "  DeprecationWarning)\n",
      "/opt/conda/envs/python2/lib/python2.7/site-packages/sklearn/svm/classes.py:197: DeprecationWarning: loss='l2' has been deprecated in favor of loss='squared_hinge' as of 0.16. Backward compatibility for the loss='l2' will be removed in 1.0\n",
      "  DeprecationWarning)\n",
      "/opt/conda/envs/python2/lib/python2.7/site-packages/sklearn/svm/classes.py:197: DeprecationWarning: loss='l2' has been deprecated in favor of loss='squared_hinge' as of 0.16. Backward compatibility for the loss='l2' will be removed in 1.0\n",
      "  DeprecationWarning)\n",
      "/opt/conda/envs/python2/lib/python2.7/site-packages/sklearn/svm/classes.py:197: DeprecationWarning: loss='l2' has been deprecated in favor of loss='squared_hinge' as of 0.16. Backward compatibility for the loss='l2' will be removed in 1.0\n",
      "  DeprecationWarning)\n"
     ]
    },
    {
     "data": {
      "text/plain": [
       "GridSearchCV(cv=5, error_score='raise',\n",
       "       estimator=LinearSVC(C=1.0, class_weight=None, dual=True, fit_intercept=True,\n",
       "     intercept_scaling=1, loss='l2', max_iter=1000, multi_class='ovr',\n",
       "     penalty='l2', random_state=None, tol=0.0001, verbose=0),\n",
       "       fit_params={}, iid=True, n_jobs=4,\n",
       "       param_grid={'C': array([ 0.01   ,  0.03162,  0.1    ,  0.31623,  1.     ])},\n",
       "       pre_dispatch='2*n_jobs', refit=True, scoring=None, verbose=0)"
      ]
     },
     "execution_count": 4,
     "metadata": {},
     "output_type": "execute_result"
    }
   ],
   "source": [
    "gs_svc1.fit(x_list1, y_list1_train)\n",
    "gs_svc2.fit(x_list2, y_list2_train)"
   ]
  },
  {
   "cell_type": "code",
   "execution_count": 5,
   "metadata": {
    "collapsed": false
   },
   "outputs": [
    {
     "name": "stdout",
     "output_type": "stream",
     "text": [
      "{'C': 0.10000000000000001} 0.710185185185\n",
      "{'C': 0.031622776601683791} 0.661666666667\n"
     ]
    },
    {
     "data": {
      "text/plain": [
       "LinearSVC(C=0.031622776601683791, class_weight=None, dual=True,\n",
       "     fit_intercept=True, intercept_scaling=1, loss='squared_hinge',\n",
       "     max_iter=1000, multi_class='ovr', penalty='l2', random_state=None,\n",
       "     tol=0.0001, verbose=0)"
      ]
     },
     "execution_count": 5,
     "metadata": {},
     "output_type": "execute_result"
    }
   ],
   "source": [
    "print gs_svc1.best_params_, gs_svc1.best_score_\n",
    "print gs_svc2.best_params_, gs_svc2.best_score_\n",
    "# overfitting underfitting 때문에.\n",
    "clf1 = LinearSVC(C=gs_svc1.best_params_['C'])\n",
    "clf2 = LinearSVC(C=gs_svc2.best_params_['C'])\n",
    "# C 값이 overfitting을 결정한다.\n",
    "clf1.fit(x_list1,y_list1_train)  # fit 하면 학습이 됨.\n",
    "clf2.fit(x_list2,y_list2_train)  # fit 하면 학습이 됨."
   ]
  },
  {
   "cell_type": "code",
   "execution_count": 6,
   "metadata": {
    "collapsed": false
   },
   "outputs": [
    {
     "name": "stdout",
     "output_type": "stream",
     "text": [
      "0.805\n",
      "0.7675\n"
     ]
    }
   ],
   "source": [
    "# test\n",
    "size = len(title_list1_test)\n",
    "sum = 0\n",
    "for num in range (0, size):\n",
    "    title = title_list1_test[num]\n",
    "    vec = vectorizer1.transform([title])\n",
    "    pred = clf1.predict(vec)[0]\n",
    "    answer = y_list1_test[num]\n",
    "    if pred == answer:\n",
    "        sum = sum + 1\n",
    "print float(sum)/float(size)\n",
    "\n",
    "size = len(title_list2_test)\n",
    "sum = 0\n",
    "for num in range (0, size):\n",
    "    title = title_list2_test[num]\n",
    "    vec = vectorizer2.transform([title])\n",
    "    pred = clf2.predict(vec)[0]\n",
    "    answer = y_list2_test[num]\n",
    "    if pred == answer:\n",
    "        sum = sum + 1\n",
    "print float(sum)/float(size)"
   ]
  },
  {
   "cell_type": "code",
   "execution_count": 7,
   "metadata": {
    "collapsed": false
   },
   "outputs": [
    {
     "data": {
      "text/plain": [
       "['vectorizer_test2.dat']"
      ]
     },
     "execution_count": 7,
     "metadata": {},
     "output_type": "execute_result"
    }
   ],
   "source": [
    "# 만든 모델 저장\n",
    "joblib.dump(clf1,'classify_test1.model',compress=3)\n",
    "joblib.dump(vectorizer1,'vectorizer_test1.dat',compress=3)\n",
    "joblib.dump(clf2,'classify_test2.model',compress=3)\n",
    "joblib.dump(vectorizer2,'vectorizer_test2.dat',compress=3)"
   ]
  },
  {
   "cell_type": "code",
   "execution_count": null,
   "metadata": {
    "collapsed": true
   },
   "outputs": [],
   "source": []
  }
 ],
 "metadata": {
  "kernelspec": {
   "display_name": "Python 2",
   "language": "python",
   "name": "python2"
  },
  "language_info": {
   "codemirror_mode": {
    "name": "ipython",
    "version": 2
   },
   "file_extension": ".py",
   "mimetype": "text/x-python",
   "name": "python",
   "nbconvert_exporter": "python",
   "pygments_lexer": "ipython2",
   "version": "2.7.11"
  },
  "widgets": {
   "state": {},
   "version": "1.1.2"
  }
 },
 "nbformat": 4,
 "nbformat_minor": 0
}
