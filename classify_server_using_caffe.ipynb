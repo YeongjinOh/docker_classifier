{
 "cells": [
  {
   "cell_type": "code",
   "execution_count": 12,
   "metadata": {
    "collapsed": true
   },
   "outputs": [],
   "source": [
    "from sklearn.externals import joblib"
   ]
  },
  {
   "cell_type": "code",
   "execution_count": 13,
   "metadata": {
    "collapsed": true
   },
   "outputs": [],
   "source": [
    "clf = joblib.load('classify_caffe.model') # 분류기 엔진\n",
    "cate_dict = joblib.load('cate_dict_caffe.dat') # id별 카테고리가 맵핑되어있는 파일\n",
    "vectorizer = joblib.load('vectorizer_caffe.dat') # 제목들을 숫자 id로 변환해주는 것"
   ]
  },
  {
   "cell_type": "code",
   "execution_count": 14,
   "metadata": {
    "collapsed": false
   },
   "outputs": [],
   "source": [
    "cate_id_name_dict = dict(map(lambda (k,v):(v,k),cate_dict.items()))"
   ]
  },
  {
   "cell_type": "code",
   "execution_count": 15,
   "metadata": {
    "collapsed": false
   },
   "outputs": [
    {
     "data": {
      "text/plain": [
       "['size.dat']"
      ]
     },
     "execution_count": 15,
     "metadata": {},
     "output_type": "execute_result"
    }
   ],
   "source": [
    "# initialize size\n",
    "size = 0\n",
    "joblib.dump(size,'size.dat')"
   ]
  },
  {
   "cell_type": "code",
   "execution_count": 16,
   "metadata": {
    "collapsed": false
   },
   "outputs": [
    {
     "data": {
      "text/plain": [
       "'\\nres = list_caffe_samples[size][\\'result\\']\\n    if res[0] :\\n        for each in res[2] :\\n            name += \" \" + each[0].replace(\" \", \"\")\\n'"
      ]
     },
     "execution_count": 16,
     "metadata": {},
     "output_type": "execute_result"
    }
   ],
   "source": [
    "# read json results of samples\n",
    "list_caffe_samples = joblib.load('list_caffe_samples.dat')\n",
    "'''\n",
    "res = list_caffe_samples[size]['result']\n",
    "    if res[0] :\n",
    "        for each in res[2] :\n",
    "            name += \" \" + each[0].replace(\" \", \"\")\n",
    "'''"
   ]
  },
  {
   "cell_type": "code",
   "execution_count": null,
   "metadata": {
    "collapsed": false
   },
   "outputs": [
    {
     "name": "stderr",
     "output_type": "stream",
     "text": [
      "Bottle v0.12.9 server starting up (using WSGIRefServer())...\n",
      "Listening on http://0.0.0.0:8887/\n",
      "Hit Ctrl-C to quit.\n",
      "\n"
     ]
    }
   ],
   "source": [
    "# server for 206 samples tests\n",
    "\n",
    "from bottle import route, run, template,request,get, post\n",
    "\n",
    "\n",
    "import  time\n",
    "from threading import  Condition\n",
    "_CONDITION = Condition()\n",
    "\n",
    "@route('/classify')\n",
    "def classify():\n",
    "    print \"classify called\"\n",
    "    img = request.GET.get('img','')\n",
    "    name = request.GET.get('name', '')\n",
    "    \n",
    "    # read size\n",
    "    size = joblib.load('size.dat')\n",
    "    print size\n",
    "    \n",
    "    # append caffe result\n",
    "    res = list_caffe_samples[size]['result']\n",
    "    if res[0] :\n",
    "        for each in res[2] :\n",
    "            name += \" \" + each[0].replace(\" \", \"\")\n",
    "    \n",
    "    vec = vectorizer.transform([name])\n",
    "    p = clf.predict(vec)\n",
    "    pred = p[0]\n",
    "    \n",
    "    # update and store size\n",
    "    size = size + 1;\n",
    "    joblib.dump(size,'size.dat')\n",
    "    \n",
    "    return {'cate':cate_id_name_dict[pred]}\n",
    "\n",
    "\n",
    "run(host='0.0.0.0', port=8887)\n",
    "# http://192.168.99.100:8887/classify?name=%27ad%27&img=%27asd%27"
   ]
  },
  {
   "cell_type": "markdown",
   "metadata": {
    "collapsed": true
   },
   "source": [
    " * 추후 여기 docker 에서 뭔가 python package 설치할게 있으면 \n",
    " * /opt/conda/bin/pip2 install bottle 이런식으로 설치 가능"
   ]
  },
  {
   "cell_type": "code",
   "execution_count": null,
   "metadata": {
    "collapsed": true
   },
   "outputs": [],
   "source": []
  },
  {
   "cell_type": "code",
   "execution_count": null,
   "metadata": {
    "collapsed": true
   },
   "outputs": [],
   "source": []
  }
 ],
 "metadata": {
  "kernelspec": {
   "display_name": "Python 2",
   "language": "python",
   "name": "python2"
  },
  "language_info": {
   "codemirror_mode": {
    "name": "ipython",
    "version": 2
   },
   "file_extension": ".py",
   "mimetype": "text/x-python",
   "name": "python",
   "nbconvert_exporter": "python",
   "pygments_lexer": "ipython2",
   "version": "2.7.11"
  },
  "widgets": {
   "state": {},
   "version": "1.1.2"
  }
 },
 "nbformat": 4,
 "nbformat_minor": 0
}
