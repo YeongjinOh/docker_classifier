{
 "cells": [
  {
   "cell_type": "code",
   "execution_count": 2,
   "metadata": {
    "collapsed": true
   },
   "outputs": [],
   "source": [
    "from sklearn.externals import joblib"
   ]
  },
  {
   "cell_type": "code",
   "execution_count": 3,
   "metadata": {
    "collapsed": true
   },
   "outputs": [],
   "source": [
    "\n",
    "clf = joblib.load('classify.model') # 분류기 엔진\n",
    "cate_dict = joblib.load('cate_dict.dat') # id별 카테고리가 맵핑되어있는 파일\n",
    "vectorizer = joblib.load('vectorizer.dat') # 제목들을 숫자 id로 변환해주는 것\n"
   ]
  },
  {
   "cell_type": "code",
   "execution_count": 4,
   "metadata": {
    "collapsed": false
   },
   "outputs": [
    {
     "data": {
      "text/plain": [
       "['n_classify.model',\n",
       " 'n_classify.model_01.npy',\n",
       " 'n_classify.model_02.npy',\n",
       " 'n_classify.model_03.npy']"
      ]
     },
     "execution_count": 4,
     "metadata": {},
     "output_type": "execute_result"
    }
   ],
   "source": [
    "joblib.dump(clf,'n_classify.model') # 무시해도 됨"
   ]
  },
  {
   "cell_type": "code",
   "execution_count": 5,
   "metadata": {
    "collapsed": false
   },
   "outputs": [
    {
     "data": {
      "text/plain": [
       "['n_vectorizer.dat']"
      ]
     },
     "execution_count": 5,
     "metadata": {},
     "output_type": "execute_result"
    }
   ],
   "source": [
    "joblib.dump(cate_dict,'n_cate_dict.dat')\n",
    "joblib.dump(vectorizer,'n_vectorizer.dat')"
   ]
  },
  {
   "cell_type": "code",
   "execution_count": 10,
   "metadata": {
    "collapsed": false
   },
   "outputs": [],
   "source": [
    "cate_id_name_dict = dict(map(lambda (k,v):(v,k),cate_dict.items()))"
   ]
  },
  {
   "cell_type": "code",
   "execution_count": 7,
   "metadata": {
    "collapsed": false
   },
   "outputs": [
    {
     "name": "stdout",
     "output_type": "stream",
     "text": [
      "  (0, 14270)\t1\n",
      "  (0, 17887)\t1\n",
      "  (0, 18536)\t1\n",
      "  (0, 19597)\t1\n",
      "  (0, 19786)\t1\n",
      "  (0, 20652)\t1\n",
      "  (0, 25237)\t1\n"
     ]
    }
   ],
   "source": [
    "vec = vectorizer.transform(['[신한카드5%할인][서우한복] 아동한복 여자아동 금나래 (분홍)'])\n",
    "print vec # 0은 0번째 피쳐란 뜻?"
   ]
  },
  {
   "cell_type": "code",
   "execution_count": 9,
   "metadata": {
    "collapsed": false
   },
   "outputs": [
    {
     "name": "stdout",
     "output_type": "stream",
     "text": [
      "33\n",
      "패션의류;아동의류;한복\n"
     ]
    }
   ],
   "source": [
    "pred = clf.predict(vec)[0]\n",
    "print pred\n",
    "print cate_id_name_dict[pred]"
   ]
  },
  {
   "cell_type": "code",
   "execution_count": 8,
   "metadata": {
    "collapsed": false
   },
   "outputs": [
    {
     "name": "stdout",
     "output_type": "stream",
     "text": [
      "아;동;한;복; ;여;아\n"
     ]
    }
   ],
   "source": [
    "# unigram\n",
    "d = u'아동한복 여아'\n",
    "print \";\".join(d)"
   ]
  },
  {
   "cell_type": "code",
   "execution_count": 9,
   "metadata": {
    "collapsed": true
   },
   "outputs": [],
   "source": [
    "# bigram\n",
    "b = u'아동 동한 한복 여아'"
   ]
  },
  {
   "cell_type": "code",
   "execution_count": 10,
   "metadata": {
    "collapsed": true
   },
   "outputs": [],
   "source": [
    "# unigram, bigram, trigram은\n",
    "# vectorize에서 써도 되고 오픈 소스 가져다 써도 되고 자기가 짜서 써도 되고..."
   ]
  },
  {
   "cell_type": "code",
   "execution_count": null,
   "metadata": {
    "collapsed": false
   },
   "outputs": [
    {
     "name": "stderr",
     "output_type": "stream",
     "text": [
      "Bottle v0.12.9 server starting up (using WSGIRefServer())...\n",
      "Listening on http://0.0.0.0:8887/\n",
      "Hit Ctrl-C to quit.\n",
      "\n"
     ]
    },
    {
     "name": "stdout",
     "output_type": "stream",
     "text": [
      "classify called\n",
      "vec\n",
      "  (0, 22991)\t1\n",
      "p\n",
      "[6]\n"
     ]
    },
    {
     "name": "stderr",
     "output_type": "stream",
     "text": [
      "192.168.99.1 - - [15/Aug/2016 10:31:49] \"GET /classify?name=%EC%B6%95%EA%B5%AC&img=%27asd%27 HTTP/1.1\" 200 80\n",
      "192.168.99.1 - - [15/Aug/2016 10:31:49] \"GET /favicon.ico HTTP/1.1\" 404 747\n"
     ]
    },
    {
     "name": "stdout",
     "output_type": "stream",
     "text": [
      "classify called\n",
      "vec\n",
      "  (0, 265)\t1\n",
      "  (0, 18173)\t1\n",
      "  (0, 19597)\t1\n",
      "  (0, 19786)\t1\n",
      "  (0, 20629)\t1\n",
      "  (0, 20758)\t1\n",
      "  (0, 22418)\t1\n",
      "  (0, 25237)\t1\n",
      "p\n",
      "[33]\n"
     ]
    },
    {
     "name": "stderr",
     "output_type": "stream",
     "text": [
      "172.17.0.1 - - [15/Aug/2016 10:32:05] \"GET /classify?name=[%EC%8B%A0%ED%95%9C%EC%B9%B4%EB%93%9C5%%ED%95%A0%EC%9D%B8][%EC%98%88%ED%99%94-%EC%A2%8B%EC%9D%80%EC%95%84%EC%9D%B4%EB%93%A4]%20%EC%95%84%EB%8F%99%ED%95%9C%EB%B3%B5%20%EC%97%AC%EC%95%84%201076%20%EB%B9%9B%EC%9D%B4%EB%82%98%EB%85%B8%EB%9E%91&img= HTTP/1.1\" 200 74\n"
     ]
    }
   ],
   "source": [
    "from bottle import route, run, template,request,get, post\n",
    "\n",
    "\n",
    "import  time\n",
    "from threading import  Condition\n",
    "_CONDITION = Condition()\n",
    "@route('/classify')\n",
    "def classify():\n",
    "    print \"classify called\"\n",
    "    img = request.GET.get('img','')\n",
    "    name = request.GET.get('name', '')\n",
    "    \n",
    "    vec = vectorizer.transform([name])\n",
    "    p = clf.predict(vec)\n",
    "    pred = p[0]\n",
    "    print \"vec\"\n",
    "    print vec\n",
    "    print \"p\"\n",
    "    print p\n",
    "    return {'cate':cate_id_name_dict[pred]}\n",
    "\n",
    "\n",
    "run(host='0.0.0.0', port=8887)\n",
    "# http://192.168.99.100:8887/classify?name=%27ad%27&img=%27asd%27"
   ]
  },
  {
   "cell_type": "markdown",
   "metadata": {
    "collapsed": true
   },
   "source": [
    " * 추후 여기 docker 에서 뭔가 python package 설치할게 있으면 \n",
    " * /opt/conda/bin/pip2 install bottle 이런식으로 설치 가능"
   ]
  },
  {
   "cell_type": "code",
   "execution_count": null,
   "metadata": {
    "collapsed": true
   },
   "outputs": [],
   "source": []
  },
  {
   "cell_type": "code",
   "execution_count": null,
   "metadata": {
    "collapsed": true
   },
   "outputs": [],
   "source": []
  }
 ],
 "metadata": {
  "kernelspec": {
   "display_name": "Python 2",
   "language": "python",
   "name": "python2"
  },
  "language_info": {
   "codemirror_mode": {
    "name": "ipython",
    "version": 2
   },
   "file_extension": ".py",
   "mimetype": "text/x-python",
   "name": "python",
   "nbconvert_exporter": "python",
   "pygments_lexer": "ipython2",
   "version": "2.7.11"
  },
  "widgets": {
   "state": {},
   "version": "1.1.2"
  }
 },
 "nbformat": 4,
 "nbformat_minor": 0
}
